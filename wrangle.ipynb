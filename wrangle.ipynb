{
 "cells": [
  {
   "cell_type": "code",
   "execution_count": 1,
   "id": "fc9cda74",
   "metadata": {},
   "outputs": [],
   "source": [
    "import pyspark.sql\n",
    "from pyspark.sql import functions as F\n",
    "import pandas as pd"
   ]
  },
  {
   "cell_type": "markdown",
   "id": "cd8c163a",
   "metadata": {},
   "source": [
    "# 1. Read the case, department, and source data into their own spark dataframes."
   ]
  },
  {
   "cell_type": "code",
   "execution_count": 2,
   "id": "11ad1720",
   "metadata": {},
   "outputs": [
    {
     "name": "stderr",
     "output_type": "stream",
     "text": [
      "Setting default log level to \"WARN\".\n",
      "To adjust logging level use sc.setLogLevel(newLevel). For SparkR, use setLogLevel(newLevel).\n",
      "23/05/22 10:15:53 WARN NativeCodeLoader: Unable to load native-hadoop library for your platform... using builtin-java classes where applicable\n"
     ]
    }
   ],
   "source": [
    "spark = pyspark.sql.SparkSession.builder.getOrCreate()"
   ]
  },
  {
   "cell_type": "code",
   "execution_count": 3,
   "id": "c2d11442",
   "metadata": {},
   "outputs": [],
   "source": [
    "pd_cases = pd.read_csv('311.csv')\n",
    "pd_dept = pd.read_csv('dept.csv')"
   ]
  },
  {
   "cell_type": "code",
   "execution_count": 4,
   "id": "6759f38c",
   "metadata": {},
   "outputs": [],
   "source": [
    "cases = spark.createDataFrame(pd_cases)"
   ]
  },
  {
   "cell_type": "code",
   "execution_count": 5,
   "id": "1de78872",
   "metadata": {},
   "outputs": [],
   "source": [
    "dept = spark.createDataFrame(pd_dept)"
   ]
  },
  {
   "cell_type": "code",
   "execution_count": 6,
   "id": "0b704aee",
   "metadata": {},
   "outputs": [
    {
     "name": "stderr",
     "output_type": "stream",
     "text": [
      "23/05/22 10:16:04 WARN package: Truncated the string representation of a plan since it was too large. This behavior can be adjusted by setting 'spark.sql.debug.maxToStringFields'.\n",
      "23/05/22 10:16:06 WARN TaskSetManager: Stage 0 contains a task of very large size (1346 KiB). The maximum recommended task size is 1000 KiB.\n",
      "                                                                                \r"
     ]
    },
    {
     "name": "stdout",
     "output_type": "stream",
     "text": [
      "-RECORD 0------------------------------------\n",
      " summary              | count                \n",
      " case_id              | 100000               \n",
      " case_opened_date     | 100000               \n",
      " case_closed_date     | 100000               \n",
      " SLA_due_date         | 100000               \n",
      " case_late            | 100000               \n",
      " num_days_late        | 100000               \n",
      " case_closed          | 100000               \n",
      " dept_division        | 100000               \n",
      " service_request_type | 100000               \n",
      " SLA_days             | 100000               \n",
      " case_status          | 100000               \n",
      " source_id            | 100000               \n",
      " request_address      | 100000               \n",
      " council_district     | 100000               \n",
      "-RECORD 1------------------------------------\n",
      " summary              | mean                 \n",
      " case_id              | 1.01422656004933E9   \n",
      " case_opened_date     | null                 \n",
      " case_closed_date     | NaN                  \n",
      " SLA_due_date         | NaN                  \n",
      " case_late            | null                 \n",
      " num_days_late        | NaN                  \n",
      " case_closed          | null                 \n",
      " dept_division        | null                 \n",
      " service_request_type | null                 \n",
      " SLA_days             | NaN                  \n",
      " case_status          | null                 \n",
      " source_id            | 136592.12481159836   \n",
      " request_address      | null                 \n",
      " council_district     | 4.54302              \n",
      "-RECORD 2------------------------------------\n",
      " summary              | stddev               \n",
      " case_id              | 56335.22377377268    \n",
      " case_opened_date     | null                 \n",
      " case_closed_date     | NaN                  \n",
      " SLA_due_date         | NaN                  \n",
      " case_late            | null                 \n",
      " num_days_late        | NaN                  \n",
      " case_closed          | null                 \n",
      " dept_division        | null                 \n",
      " service_request_type | null                 \n",
      " SLA_days             | NaN                  \n",
      " case_status          | null                 \n",
      " source_id            | 7110.724059297738    \n",
      " request_address      | null                 \n",
      " council_district     | 2.7253483364215243   \n",
      "-RECORD 3------------------------------------\n",
      " summary              | min                  \n",
      " case_id              | 1014127332           \n",
      " case_opened_date     | 1/1/18 0:42          \n",
      " case_closed_date     | 1/1/18 10:12         \n",
      " SLA_due_date         | 1/1/18 11:56         \n",
      " case_late            | NO                   \n",
      " num_days_late        | -1231.707778         \n",
      " case_closed          | NO                   \n",
      " dept_division        | 311 Call Center      \n",
      " service_request_type | 1st Call Bagged L... \n",
      " SLA_days             | 0.125                \n",
      " case_status          | Closed               \n",
      " source_id            | 100137               \n",
      " request_address      | 0  MAJESTIC WAY, ... \n",
      " council_district     | 0                    \n",
      "-RECORD 4------------------------------------\n",
      " summary              | max                  \n",
      " case_id              | 1014323008           \n",
      " case_opened_date     | 3/9/18 9:59          \n",
      " case_closed_date     | NaN                  \n",
      " SLA_due_date         | NaN                  \n",
      " case_late            | YES                  \n",
      " num_days_late        | NaN                  \n",
      " case_closed          | YES                  \n",
      " dept_division        | Waste Collection     \n",
      " service_request_type | Zoning: Visual Ob... \n",
      " SLA_days             | NaN                  \n",
      " case_status          | Open                 \n",
      " source_id            | yc16753              \n",
      " request_address      | ZULEMA and 41ST S... \n",
      " council_district     | 10                   \n",
      "\n"
     ]
    }
   ],
   "source": [
    "cases.describe().show(vertical=True)"
   ]
  },
  {
   "cell_type": "code",
   "execution_count": 7,
   "id": "218c1dc3",
   "metadata": {},
   "outputs": [
    {
     "name": "stderr",
     "output_type": "stream",
     "text": [
      "\r",
      "[Stage 3:======================>                                    (3 + 5) / 8]\r"
     ]
    },
    {
     "name": "stdout",
     "output_type": "stream",
     "text": [
      "-RECORD 0--------------------------------------\n",
      " summary                | count                \n",
      " dept_division          | 39                   \n",
      " dept_name              | 39                   \n",
      " standardized_dept_name | 39                   \n",
      " dept_subject_to_SLA    | 39                   \n",
      "-RECORD 1--------------------------------------\n",
      " summary                | mean                 \n",
      " dept_division          | null                 \n",
      " dept_name              | NaN                  \n",
      " standardized_dept_name | null                 \n",
      " dept_subject_to_SLA    | null                 \n",
      "-RECORD 2--------------------------------------\n",
      " summary                | stddev               \n",
      " dept_division          | null                 \n",
      " dept_name              | null                 \n",
      " standardized_dept_name | null                 \n",
      " dept_subject_to_SLA    | null                 \n",
      "-RECORD 3--------------------------------------\n",
      " summary                | min                  \n",
      " dept_division          | 311 Call Center      \n",
      " dept_name              | Animal Care Services \n",
      " standardized_dept_name | Animal Care Services \n",
      " dept_subject_to_SLA    | NO                   \n",
      "-RECORD 4--------------------------------------\n",
      " summary                | max                  \n",
      " dept_division          | Waste Collection     \n",
      " dept_name              | Trans & Cap Impro... \n",
      " standardized_dept_name | Trans & Cap Impro... \n",
      " dept_subject_to_SLA    | YES                  \n",
      "\n"
     ]
    },
    {
     "name": "stderr",
     "output_type": "stream",
     "text": [
      "\r",
      "                                                                                \r"
     ]
    }
   ],
   "source": [
    "dept.describe().show(vertical=True)"
   ]
  },
  {
   "cell_type": "markdown",
   "id": "e6df1053",
   "metadata": {},
   "source": [
    "## 2. Write the code necessary to store the source data in both csv and json format, store these as sources_csv and sources_json"
   ]
  },
  {
   "cell_type": "markdown",
   "id": "35ea48be",
   "metadata": {},
   "source": [
    "Im going to do this with dept instead"
   ]
  },
  {
   "cell_type": "code",
   "execution_count": 8,
   "id": "abe2438e",
   "metadata": {},
   "outputs": [
    {
     "name": "stderr",
     "output_type": "stream",
     "text": [
      "                                                                                \r"
     ]
    }
   ],
   "source": [
    "dept.write.csv('data/dept', mode='overwrite', header=True)"
   ]
  },
  {
   "cell_type": "code",
   "execution_count": 9,
   "id": "b5cec482",
   "metadata": {},
   "outputs": [],
   "source": [
    "dept.write.json('data/dept', mode='overwrite')"
   ]
  },
  {
   "cell_type": "markdown",
   "id": "def26e62",
   "metadata": {},
   "source": [
    "### Inspect your folder structure. What do you notice?\n",
    "The files are split up into smaller files"
   ]
  },
  {
   "cell_type": "markdown",
   "id": "ece1251a",
   "metadata": {},
   "source": [
    "## 3. Inspect the data in your dataframes. Are the data types appropriate? Write the code necessary to cast the values to the appropriate types."
   ]
  },
  {
   "cell_type": "code",
   "execution_count": 10,
   "id": "7a9df402",
   "metadata": {},
   "outputs": [
    {
     "data": {
      "text/plain": [
       "[('case_id', 'bigint'),\n",
       " ('case_opened_date', 'string'),\n",
       " ('case_closed_date', 'string'),\n",
       " ('SLA_due_date', 'string'),\n",
       " ('case_late', 'string'),\n",
       " ('num_days_late', 'double'),\n",
       " ('case_closed', 'string'),\n",
       " ('dept_division', 'string'),\n",
       " ('service_request_type', 'string'),\n",
       " ('SLA_days', 'double'),\n",
       " ('case_status', 'string'),\n",
       " ('source_id', 'string'),\n",
       " ('request_address', 'string'),\n",
       " ('council_district', 'bigint')]"
      ]
     },
     "execution_count": 10,
     "metadata": {},
     "output_type": "execute_result"
    }
   ],
   "source": [
    "cases.dtypes"
   ]
  },
  {
   "cell_type": "code",
   "execution_count": 11,
   "id": "3c552f3c",
   "metadata": {},
   "outputs": [
    {
     "name": "stdout",
     "output_type": "stream",
     "text": [
      "+----------------+\n",
      "|case_opened_date|\n",
      "+----------------+\n",
      "|     1/1/18 0:42|\n",
      "|     1/1/18 0:46|\n",
      "+----------------+\n",
      "only showing top 2 rows\n",
      "\n"
     ]
    },
    {
     "name": "stderr",
     "output_type": "stream",
     "text": [
      "23/05/22 10:16:40 WARN TaskSetManager: Stage 8 contains a task of very large size (1346 KiB). The maximum recommended task size is 1000 KiB.\n"
     ]
    }
   ],
   "source": [
    "cases.select('case_opened_date').show(2)"
   ]
  },
  {
   "cell_type": "code",
   "execution_count": 12,
   "id": "c695e01e",
   "metadata": {},
   "outputs": [],
   "source": [
    "fmt = 'M/d/yy H:m'"
   ]
  },
  {
   "cell_type": "code",
   "execution_count": 13,
   "id": "c6348aee",
   "metadata": {},
   "outputs": [],
   "source": [
    "cases = cases.withColumn(\n",
    "    'case_opened_date',\n",
    "    F.to_timestamp('case_opened_date', fmt)\n",
    "    ).\\\n",
    "    withColumn(\n",
    "    'case_closed_date',\n",
    "    F.to_timestamp('case_closed_date', fmt)\n",
    "    ).\\\n",
    "    withColumn(\n",
    "    'SLA_due_date',\n",
    "    F.to_timestamp('SLA_due_date', fmt)\n",
    "    )"
   ]
  },
  {
   "cell_type": "code",
   "execution_count": 14,
   "id": "133a2e44",
   "metadata": {},
   "outputs": [
    {
     "name": "stderr",
     "output_type": "stream",
     "text": [
      "23/05/22 10:16:40 WARN TaskSetManager: Stage 9 contains a task of very large size (1346 KiB). The maximum recommended task size is 1000 KiB.\n"
     ]
    },
    {
     "name": "stdout",
     "output_type": "stream",
     "text": [
      "+-------------------+\n",
      "|   case_opened_date|\n",
      "+-------------------+\n",
      "|2018-01-01 00:42:00|\n",
      "|2018-01-01 00:46:00|\n",
      "+-------------------+\n",
      "only showing top 2 rows\n",
      "\n"
     ]
    }
   ],
   "source": [
    "cases.select('case_opened_date').show(2)"
   ]
  },
  {
   "cell_type": "code",
   "execution_count": 15,
   "id": "e116cc93",
   "metadata": {},
   "outputs": [
    {
     "name": "stdout",
     "output_type": "stream",
     "text": [
      "+-------------------+\n",
      "|       SLA_due_date|\n",
      "+-------------------+\n",
      "|2020-09-26 00:42:00|\n",
      "|2018-01-05 08:30:00|\n",
      "|2018-01-05 08:30:00|\n",
      "+-------------------+\n",
      "only showing top 3 rows\n",
      "\n"
     ]
    },
    {
     "name": "stderr",
     "output_type": "stream",
     "text": [
      "23/05/22 10:16:41 WARN TaskSetManager: Stage 10 contains a task of very large size (1346 KiB). The maximum recommended task size is 1000 KiB.\n"
     ]
    }
   ],
   "source": [
    "cases.select('SLA_due_date').show(3)"
   ]
  },
  {
   "cell_type": "code",
   "execution_count": 16,
   "id": "7237c37c",
   "metadata": {},
   "outputs": [
    {
     "data": {
      "text/plain": [
       "[('case_id', 'bigint'),\n",
       " ('case_opened_date', 'timestamp'),\n",
       " ('case_closed_date', 'timestamp'),\n",
       " ('SLA_due_date', 'timestamp'),\n",
       " ('case_late', 'string'),\n",
       " ('num_days_late', 'double'),\n",
       " ('case_closed', 'string'),\n",
       " ('dept_division', 'string'),\n",
       " ('service_request_type', 'string'),\n",
       " ('SLA_days', 'double'),\n",
       " ('case_status', 'string'),\n",
       " ('source_id', 'string'),\n",
       " ('request_address', 'string'),\n",
       " ('council_district', 'bigint')]"
      ]
     },
     "execution_count": 16,
     "metadata": {},
     "output_type": "execute_result"
    }
   ],
   "source": [
    "cases.dtypes"
   ]
  },
  {
   "cell_type": "code",
   "execution_count": 17,
   "id": "7bbbf4cd",
   "metadata": {},
   "outputs": [
    {
     "name": "stdout",
     "output_type": "stream",
     "text": [
      "+---------+-----------+-----------+\n",
      "|case_late|case_closed|case_status|\n",
      "+---------+-----------+-----------+\n",
      "|       NO|        YES|     Closed|\n",
      "|       NO|        YES|     Closed|\n",
      "|       NO|        YES|     Closed|\n",
      "+---------+-----------+-----------+\n",
      "only showing top 3 rows\n",
      "\n"
     ]
    },
    {
     "name": "stderr",
     "output_type": "stream",
     "text": [
      "23/05/22 10:16:41 WARN TaskSetManager: Stage 11 contains a task of very large size (1346 KiB). The maximum recommended task size is 1000 KiB.\n"
     ]
    }
   ],
   "source": [
    "cases.select('case_late', 'case_closed', 'case_status').show(3)"
   ]
  },
  {
   "cell_type": "code",
   "execution_count": 18,
   "id": "af6aad46",
   "metadata": {},
   "outputs": [
    {
     "name": "stderr",
     "output_type": "stream",
     "text": [
      "23/05/22 10:16:41 WARN TaskSetManager: Stage 12 contains a task of very large size (1346 KiB). The maximum recommended task size is 1000 KiB.\n",
      "[Stage 12:>                                                         (0 + 8) / 8]\r"
     ]
    },
    {
     "name": "stdout",
     "output_type": "stream",
     "text": [
      "+-----------+\n",
      "|case_status|\n",
      "+-----------+\n",
      "|       Open|\n",
      "|     Closed|\n",
      "+-----------+\n",
      "\n"
     ]
    },
    {
     "name": "stderr",
     "output_type": "stream",
     "text": [
      "\r",
      "                                                                                \r"
     ]
    }
   ],
   "source": [
    "cases.select('case_status').distinct().show()"
   ]
  },
  {
   "cell_type": "markdown",
   "id": "8cff5405",
   "metadata": {},
   "source": [
    "case_status is redundant with case_closed"
   ]
  },
  {
   "cell_type": "code",
   "execution_count": 19,
   "id": "5da44f95",
   "metadata": {},
   "outputs": [],
   "source": [
    "cases = cases.withColumn(\n",
    "    'case_closed', \n",
    "    F.expr('case_closed') == 'YES').\\\n",
    "    withColumn(\n",
    "    'case_late', \n",
    "    F.expr('case_late') == 'YES')"
   ]
  },
  {
   "cell_type": "code",
   "execution_count": 20,
   "id": "0accedab",
   "metadata": {},
   "outputs": [],
   "source": [
    "cases = cases.drop('case_status')"
   ]
  },
  {
   "cell_type": "code",
   "execution_count": 21,
   "id": "c3b1d563",
   "metadata": {},
   "outputs": [
    {
     "name": "stdout",
     "output_type": "stream",
     "text": [
      "-RECORD 0------------------------------------\n",
      " case_id              | 1014127332           \n",
      " case_opened_date     | 2018-01-01 00:42:00  \n",
      " case_closed_date     | 2018-01-01 12:29:00  \n",
      " SLA_due_date         | 2020-09-26 00:42:00  \n",
      " case_late            | false                \n",
      " num_days_late        | -998.5087616         \n",
      " case_closed          | true                 \n",
      " dept_division        | Field Operations     \n",
      " service_request_type | Stray Animal         \n",
      " SLA_days             | 999.0                \n",
      " source_id            | svcCRMLS             \n",
      " request_address      | 2315  EL PASO ST,... \n",
      " council_district     | 5                    \n",
      "only showing top 1 row\n",
      "\n"
     ]
    },
    {
     "name": "stderr",
     "output_type": "stream",
     "text": [
      "23/05/22 10:16:43 WARN TaskSetManager: Stage 15 contains a task of very large size (1346 KiB). The maximum recommended task size is 1000 KiB.\n"
     ]
    }
   ],
   "source": [
    "cases.show(1, vertical=True)"
   ]
  },
  {
   "cell_type": "code",
   "execution_count": 22,
   "id": "8175f4f5",
   "metadata": {},
   "outputs": [],
   "source": [
    "cases = cases.withColumn(\n",
    "    'request_address',\n",
    "    F.trim(F.lower('request_address'))\n",
    ")"
   ]
  },
  {
   "cell_type": "code",
   "execution_count": 23,
   "id": "7dd86a23",
   "metadata": {},
   "outputs": [
    {
     "name": "stdout",
     "output_type": "stream",
     "text": [
      "-RECORD 0------------------------------------\n",
      " case_id              | 1014127332           \n",
      " case_opened_date     | 2018-01-01 00:42:00  \n",
      " case_closed_date     | 2018-01-01 12:29:00  \n",
      " SLA_due_date         | 2020-09-26 00:42:00  \n",
      " case_late            | false                \n",
      " num_days_late        | -998.5087616         \n",
      " case_closed          | true                 \n",
      " dept_division        | Field Operations     \n",
      " service_request_type | Stray Animal         \n",
      " SLA_days             | 999.0                \n",
      " source_id            | svcCRMLS             \n",
      " request_address      | 2315  el paso st,... \n",
      " council_district     | 5                    \n",
      "only showing top 1 row\n",
      "\n"
     ]
    },
    {
     "name": "stderr",
     "output_type": "stream",
     "text": [
      "23/05/22 10:16:43 WARN TaskSetManager: Stage 16 contains a task of very large size (1346 KiB). The maximum recommended task size is 1000 KiB.\n"
     ]
    }
   ],
   "source": [
    "cases.show(1, vertical=True)"
   ]
  },
  {
   "cell_type": "markdown",
   "id": "e270b100",
   "metadata": {},
   "source": [
    "# part 2\n",
    "## 1. How old is the latest (in terms of days past SLA) currently open issue? How long has the oldest (in terms of days since opened) currently opened issue been open?"
   ]
  },
  {
   "cell_type": "code",
   "execution_count": 26,
   "id": "6d35fbbd",
   "metadata": {},
   "outputs": [
    {
     "name": "stdout",
     "output_type": "stream",
     "text": [
      "-RECORD 0------------------------------------\n",
      " case_id              | 1014127332           \n",
      " case_opened_date     | 2018-01-01 00:42:00  \n",
      " case_closed_date     | 2018-01-01 12:29:00  \n",
      " SLA_due_date         | 2020-09-26 00:42:00  \n",
      " case_late            | false                \n",
      " num_days_late        | -998.5087616         \n",
      " case_closed          | true                 \n",
      " dept_division        | Field Operations     \n",
      " service_request_type | Stray Animal         \n",
      " SLA_days             | 999.0                \n",
      " source_id            | svcCRMLS             \n",
      " request_address      | 2315  el paso st,... \n",
      " council_district     | 5                    \n",
      "only showing top 1 row\n",
      "\n"
     ]
    },
    {
     "name": "stderr",
     "output_type": "stream",
     "text": [
      "23/05/22 10:24:41 WARN TaskSetManager: Stage 18 contains a task of very large size (1346 KiB). The maximum recommended task size is 1000 KiB.\n"
     ]
    }
   ],
   "source": [
    "cases.show(1, vertical=True)"
   ]
  },
  {
   "cell_type": "code",
   "execution_count": 38,
   "id": "16f6f21e",
   "metadata": {},
   "outputs": [
    {
     "name": "stderr",
     "output_type": "stream",
     "text": [
      "23/05/22 10:36:41 WARN TaskSetManager: Stage 41 contains a task of very large size (1346 KiB). The maximum recommended task size is 1000 KiB.\n"
     ]
    },
    {
     "name": "stdout",
     "output_type": "stream",
     "text": [
      "+---------------------+\n",
      "|latest_open_days_open|\n",
      "+---------------------+\n",
      "|                 1896|\n",
      "+---------------------+\n",
      "\n"
     ]
    }
   ],
   "source": [
    "# How old is the latest (in terms of days past SLA) currently open issue?\n",
    "cases.filter('case_closed == False').\\\n",
    "    select(\n",
    "        F.datediff(\n",
    "            F.current_timestamp(),\n",
    "            F.max('case_opened_date')).\\\n",
    "    alias('latest_open_days_open')\n",
    "    ).show()"
   ]
  },
  {
   "cell_type": "code",
   "execution_count": 41,
   "id": "f1aaaf30",
   "metadata": {},
   "outputs": [
    {
     "name": "stderr",
     "output_type": "stream",
     "text": [
      "23/05/22 10:40:25 WARN TaskSetManager: Stage 50 contains a task of very large size (1346 KiB). The maximum recommended task size is 1000 KiB.\n"
     ]
    },
    {
     "name": "stdout",
     "output_type": "stream",
     "text": [
      "+---------------------+\n",
      "|oldest_open_days_open|\n",
      "+---------------------+\n",
      "|                 1966|\n",
      "+---------------------+\n",
      "\n"
     ]
    }
   ],
   "source": [
    "# How long has the oldest (in terms of days since opened) \n",
    "# currently opened issue been open?\n",
    "cases.filter('case_closed == False').\\\n",
    "    select(\n",
    "        F.datediff(\n",
    "            F.current_timestamp(),\n",
    "            F.min('case_opened_date')).\\\n",
    "    alias('oldest_open_days_open')\n",
    "    ).show()"
   ]
  },
  {
   "cell_type": "markdown",
   "id": "830c7461",
   "metadata": {},
   "source": [
    "## 2. How many Stray Animal cases are there?"
   ]
  },
  {
   "cell_type": "code",
   "execution_count": 55,
   "id": "6eab86be",
   "metadata": {},
   "outputs": [
    {
     "name": "stderr",
     "output_type": "stream",
     "text": [
      "23/05/22 10:47:42 WARN TaskSetManager: Stage 75 contains a task of very large size (1346 KiB). The maximum recommended task size is 1000 KiB.\n",
      "[Stage 75:>                                                         (0 + 8) / 8]\r"
     ]
    },
    {
     "name": "stdout",
     "output_type": "stream",
     "text": [
      "+--------------------+-----+\n",
      "|service_request_type|count|\n",
      "+--------------------+-----+\n",
      "|Animal Permits Re...|  380|\n",
      "|Injured Animal(Cr...| 1021|\n",
      "|     Officer Standby|  384|\n",
      "|Animal Bite(Non-C...|  544|\n",
      "|        Stray Animal| 3497|\n",
      "|Trapped/Confined ...| 1299|\n",
      "|City Council Anim...|   46|\n",
      "|Aggressive Animal...| 3541|\n",
      "|Animal Bite(Criti...|   82|\n",
      "|Public Nuisance(O...| 1531|\n",
      "|Aggressive Animal...|  746|\n",
      "|Animal Cruelty(Cr...|  479|\n",
      "|      Animal Neglect| 1928|\n",
      "+--------------------+-----+\n",
      "\n"
     ]
    },
    {
     "name": "stderr",
     "output_type": "stream",
     "text": [
      "\r",
      "                                                                                \r"
     ]
    }
   ],
   "source": [
    "cases.filter(F.col('dept_division') == 'Field Operations').\\\n",
    "    groupby('service_request_type').count().show()"
   ]
  },
  {
   "cell_type": "code",
   "execution_count": 49,
   "id": "78873b92",
   "metadata": {},
   "outputs": [
    {
     "name": "stderr",
     "output_type": "stream",
     "text": [
      "23/05/22 10:44:16 WARN TaskSetManager: Stage 60 contains a task of very large size (1346 KiB). The maximum recommended task size is 1000 KiB.\n"
     ]
    },
    {
     "data": {
      "text/plain": [
       "3497"
      ]
     },
     "execution_count": 49,
     "metadata": {},
     "output_type": "execute_result"
    }
   ],
   "source": [
    "cases.filter(F.col('service_request_type') == 'Stray Animal').count()"
   ]
  },
  {
   "cell_type": "markdown",
   "id": "754df4f7",
   "metadata": {},
   "source": [
    "#### 3497"
   ]
  },
  {
   "cell_type": "markdown",
   "id": "4886f128",
   "metadata": {},
   "source": [
    "## 3. How many service requests that are assigned to the Field Operations department (dept_division) are not classified as \"Officer Standby\" request type (service_request_type)?"
   ]
  },
  {
   "cell_type": "code",
   "execution_count": 53,
   "id": "1fc9f8fa",
   "metadata": {},
   "outputs": [
    {
     "name": "stderr",
     "output_type": "stream",
     "text": [
      "23/05/22 10:46:38 WARN TaskSetManager: Stage 72 contains a task of very large size (1346 KiB). The maximum recommended task size is 1000 KiB.\n"
     ]
    },
    {
     "data": {
      "text/plain": [
       "15094"
      ]
     },
     "execution_count": 53,
     "metadata": {},
     "output_type": "execute_result"
    }
   ],
   "source": [
    "cases.filter(F.col('dept_division') == 'Field Operations').\\\n",
    "    filter(F.col('service_request_type') != 'Officer Standby').\\\n",
    "    count()"
   ]
  },
  {
   "cell_type": "markdown",
   "id": "d772e845",
   "metadata": {},
   "source": [
    "#### 15,094"
   ]
  },
  {
   "cell_type": "markdown",
   "id": "036045ec",
   "metadata": {},
   "source": [
    "## 4. Convert the council_district column to a string column."
   ]
  },
  {
   "cell_type": "code",
   "execution_count": 61,
   "id": "d80326fe",
   "metadata": {},
   "outputs": [
    {
     "data": {
      "text/plain": [
       "[('case_id', 'bigint'),\n",
       " ('case_opened_date', 'timestamp'),\n",
       " ('case_closed_date', 'timestamp'),\n",
       " ('SLA_due_date', 'timestamp'),\n",
       " ('case_late', 'boolean'),\n",
       " ('num_days_late', 'double'),\n",
       " ('case_closed', 'boolean'),\n",
       " ('dept_division', 'string'),\n",
       " ('service_request_type', 'string'),\n",
       " ('SLA_days', 'double'),\n",
       " ('source_id', 'string'),\n",
       " ('request_address', 'string'),\n",
       " ('council_district', 'string')]"
      ]
     },
     "execution_count": 61,
     "metadata": {},
     "output_type": "execute_result"
    }
   ],
   "source": [
    "cases = cases.withColumn(\n",
    "    'council_district',\n",
    "    F.col('council_district').cast('string')\n",
    ")\n",
    "cases.dtypes"
   ]
  },
  {
   "cell_type": "markdown",
   "id": "9f59a640",
   "metadata": {},
   "source": [
    "## 5. Extract the year from the case_closed_date column."
   ]
  },
  {
   "cell_type": "code",
   "execution_count": 65,
   "id": "600b21ca",
   "metadata": {},
   "outputs": [
    {
     "name": "stderr",
     "output_type": "stream",
     "text": [
      "23/05/22 10:54:52 WARN TaskSetManager: Stage 83 contains a task of very large size (1346 KiB). The maximum recommended task size is 1000 KiB.\n"
     ]
    },
    {
     "name": "stdout",
     "output_type": "stream",
     "text": [
      "-RECORD 0------------------------------------\n",
      " case_id              | 1014127332           \n",
      " case_opened_date     | 2018-01-01 00:42:00  \n",
      " case_closed_date     | 2018-01-01 12:29:00  \n",
      " SLA_due_date         | 2020-09-26 00:42:00  \n",
      " case_late            | false                \n",
      " num_days_late        | -998.5087616         \n",
      " case_closed          | true                 \n",
      " dept_division        | Field Operations     \n",
      " service_request_type | Stray Animal         \n",
      " SLA_days             | 999.0                \n",
      " source_id            | svcCRMLS             \n",
      " request_address      | 2315  el paso st,... \n",
      " council_district     | 5                    \n",
      " case_closed_year     | 2018                 \n",
      "only showing top 1 row\n",
      "\n"
     ]
    }
   ],
   "source": [
    "cases = cases.withColumn(\n",
    "    'case_closed_year',\n",
    "    F.year(F.col('case_closed_date'))\n",
    ")\n",
    "cases.show(1,vertical=True)"
   ]
  },
  {
   "cell_type": "markdown",
   "id": "04da8a3c",
   "metadata": {},
   "source": [
    "## 6. Convert num_days_late from days to hours in new columns num_hours_late."
   ]
  },
  {
   "cell_type": "code",
   "execution_count": 75,
   "id": "31156e73",
   "metadata": {},
   "outputs": [
    {
     "name": "stderr",
     "output_type": "stream",
     "text": [
      "23/05/22 11:05:40 WARN TaskSetManager: Stage 89 contains a task of very large size (1346 KiB). The maximum recommended task size is 1000 KiB.\n"
     ]
    },
    {
     "name": "stdout",
     "output_type": "stream",
     "text": [
      "-RECORD 0------------------------------------\n",
      " case_id              | 1014127332           \n",
      " case_opened_date     | 2018-01-01 00:42:00  \n",
      " case_closed_date     | 2018-01-01 12:29:00  \n",
      " SLA_due_date         | 2020-09-26 00:42:00  \n",
      " case_late            | false                \n",
      " num_days_late        | -998.5087616         \n",
      " case_closed          | true                 \n",
      " dept_division        | Field Operations     \n",
      " service_request_type | Stray Animal         \n",
      " SLA_days             | 999.0                \n",
      " source_id            | svcCRMLS             \n",
      " request_address      | 2315  el paso st,... \n",
      " council_district     | 5                    \n",
      " case_closed_year     | 2018                 \n",
      " num_hours_late       | -23964.21            \n",
      "only showing top 1 row\n",
      "\n"
     ]
    }
   ],
   "source": [
    "cases = cases.withColumn(\n",
    "    'num_hours_late',\n",
    "    F.round((F.col('num_days_late') * 24), 2)\n",
    ")\n",
    "cases.show(1, vertical=True)"
   ]
  },
  {
   "cell_type": "markdown",
   "id": "e683e7d7",
   "metadata": {},
   "source": [
    "## 7. Join the case data with the source and department data."
   ]
  },
  {
   "cell_type": "markdown",
   "id": "99b552f8",
   "metadata": {},
   "source": [
    "#### Don't have access to the source data..."
   ]
  },
  {
   "cell_type": "markdown",
   "id": "732bfe9f",
   "metadata": {},
   "source": [
    "## 8. Are there any cases that do not have a request source?"
   ]
  },
  {
   "cell_type": "code",
   "execution_count": 91,
   "id": "11b0d1b6",
   "metadata": {},
   "outputs": [
    {
     "name": "stderr",
     "output_type": "stream",
     "text": [
      "23/05/22 11:13:01 WARN TaskSetManager: Stage 95 contains a task of very large size (1346 KiB). The maximum recommended task size is 1000 KiB.\n"
     ]
    },
    {
     "data": {
      "text/plain": [
       "0"
      ]
     },
     "execution_count": 91,
     "metadata": {},
     "output_type": "execute_result"
    }
   ],
   "source": [
    "cases.filter(F.col('source_id').isNull()).count()"
   ]
  },
  {
   "cell_type": "markdown",
   "id": "58ce4ab8",
   "metadata": {},
   "source": [
    "#### None with null values"
   ]
  },
  {
   "cell_type": "markdown",
   "id": "053f9a9e",
   "metadata": {},
   "source": [
    "## 9. What are the top 10 service request types in terms of number of requests?"
   ]
  },
  {
   "cell_type": "code",
   "execution_count": 115,
   "id": "19595e68",
   "metadata": {},
   "outputs": [
    {
     "name": "stderr",
     "output_type": "stream",
     "text": [
      "23/05/22 11:29:39 WARN TaskSetManager: Stage 119 contains a task of very large size (1346 KiB). The maximum recommended task size is 1000 KiB.\n",
      "[Stage 119:>                                                        (0 + 8) / 8]\r"
     ]
    },
    {
     "name": "stdout",
     "output_type": "stream",
     "text": [
      "+--------------------+------+\n",
      "|service_request_type|counts|\n",
      "+--------------------+------+\n",
      "|           No Pickup|  8932|\n",
      "|Overgrown Yard/Trash|  6853|\n",
      "|Front Or Side Yar...|  5338|\n",
      "|        Bandit Signs|  4781|\n",
      "|Aggressive Animal...|  3541|\n",
      "|        Stray Animal|  3497|\n",
      "|        Damaged Cart|  3465|\n",
      "|Cart Exchange Req...|  3282|\n",
      "|Right Of Way/Side...|  3121|\n",
      "|Junk Vehicle On P...|  2897|\n",
      "+--------------------+------+\n",
      "only showing top 10 rows\n",
      "\n"
     ]
    },
    {
     "name": "stderr",
     "output_type": "stream",
     "text": [
      "\r",
      "                                                                                \r"
     ]
    }
   ],
   "source": [
    "cases.groupby('service_request_type').\\\n",
    "    agg(F.count('service_request_type').\\\n",
    "        alias('counts')).\\\n",
    "    sort(F.col('counts').desc()).\\\n",
    "    show(10)"
   ]
  },
  {
   "cell_type": "markdown",
   "id": "1fae9ed1",
   "metadata": {},
   "source": [
    "## 10. What are the top 10 service request types in terms of average days late?"
   ]
  },
  {
   "cell_type": "code",
   "execution_count": 123,
   "id": "f7ab48ff",
   "metadata": {},
   "outputs": [
    {
     "name": "stderr",
     "output_type": "stream",
     "text": [
      "23/05/22 11:33:52 WARN TaskSetManager: Stage 134 contains a task of very large size (1346 KiB). The maximum recommended task size is 1000 KiB.\n",
      "[Stage 134:>                                                        (0 + 8) / 8]\r"
     ]
    },
    {
     "name": "stdout",
     "output_type": "stream",
     "text": [
      "+----------------------------------------+-------------+\n",
      "|service_request_type                    |avg_days_late|\n",
      "+----------------------------------------+-------------+\n",
      "|Zoning: Junk Yards                      |178.32       |\n",
      "|Emergency: Main and Accessory Structures|173.51       |\n",
      "|Status: On-Going CIMS Projects          |159.86       |\n",
      "|Zoning: Recycle Yard                    |152.18       |\n",
      "|Complaint                               |136.78       |\n",
      "|Markings Installation SMO (NEW)         |111.38       |\n",
      "|Vendors                                 |71.22        |\n",
      "|Donation Container Enforcement          |61.65        |\n",
      "|No Address Posted                       |61.14        |\n",
      "|Curbstoning                             |54.43        |\n",
      "+----------------------------------------+-------------+\n",
      "only showing top 10 rows\n",
      "\n"
     ]
    },
    {
     "name": "stderr",
     "output_type": "stream",
     "text": [
      "\r",
      "                                                                                \r"
     ]
    }
   ],
   "source": [
    "cases.filter(F.col('service_request_type') != 'Request for Research/Information').\\\n",
    "    groupby('service_request_type').\\\n",
    "    agg(F.round(\n",
    "            F.avg('num_days_late')\\\n",
    "        , 2).\\\n",
    "        alias('avg_days_late')\n",
    "        ).\\\n",
    "    sort(F.col('avg_days_late').desc()).\\\n",
    "    show(10, truncate=False)"
   ]
  },
  {
   "cell_type": "markdown",
   "id": "2ed6d80f",
   "metadata": {},
   "source": [
    "## 11. Does number of days late depend on department?"
   ]
  },
  {
   "cell_type": "code",
   "execution_count": 125,
   "id": "3e811c7a",
   "metadata": {},
   "outputs": [
    {
     "name": "stderr",
     "output_type": "stream",
     "text": [
      "23/05/22 11:35:36 WARN TaskSetManager: Stage 140 contains a task of very large size (1346 KiB). The maximum recommended task size is 1000 KiB.\n"
     ]
    },
    {
     "name": "stdout",
     "output_type": "stream",
     "text": [
      "+-----------------------------+-------------+\n",
      "|dept_division                |avg_days_late|\n",
      "+-----------------------------+-------------+\n",
      "|District 2                   |NaN          |\n",
      "|District 1                   |NaN          |\n",
      "|Director's Office Horizontal |159.86       |\n",
      "|Code Enforcement (Internal)  |152.18       |\n",
      "|311 Call Center              |111.96       |\n",
      "|Engineering Division         |30.16        |\n",
      "|Trades                       |10.28        |\n",
      "|Solid Waste                  |2.61         |\n",
      "|Clean and Green Natural Areas|2.37         |\n",
      "|Miscellaneous                |-1.72        |\n",
      "|Tree Crew                    |-1.73        |\n",
      "|Facility License             |-1.77        |\n",
      "|Waste Collection             |-1.84        |\n",
      "|Vector                       |-2.17        |\n",
      "|Shops                        |-2.97        |\n",
      "|Clean and Green              |-3.23        |\n",
      "|Brush                        |-3.87        |\n",
      "|Food Establishments          |-7.16        |\n",
      "|Shops (Internal)             |-7.68        |\n",
      "|Signs and Markings           |-9.32        |\n",
      "+-----------------------------+-------------+\n",
      "only showing top 20 rows\n",
      "\n"
     ]
    }
   ],
   "source": [
    "cases.groupby('dept_division').\\\n",
    "    agg(F.round(\n",
    "            F.avg('num_days_late')\\\n",
    "        , 2).\\\n",
    "        alias('avg_days_late')\n",
    "        ).\\\n",
    "    sort(F.col('avg_days_late').desc()).\\\n",
    "    show(truncate=False)"
   ]
  },
  {
   "cell_type": "markdown",
   "id": "c5bf8b37",
   "metadata": {},
   "source": [
    "#### Yes, there are 3 departments that average over 100 hours late, 1 department with avg 30 hours, 1 with 10 hours avg, and the rest below 5 avg hours late."
   ]
  },
  {
   "cell_type": "markdown",
   "id": "2789f180",
   "metadata": {},
   "source": [
    "## 12. How do number of days late depend on department and request type?"
   ]
  },
  {
   "cell_type": "code",
   "execution_count": 126,
   "id": "879808ef",
   "metadata": {},
   "outputs": [
    {
     "name": "stderr",
     "output_type": "stream",
     "text": [
      "23/05/22 11:38:07 WARN TaskSetManager: Stage 143 contains a task of very large size (1346 KiB). The maximum recommended task size is 1000 KiB.\n",
      "[Stage 143:>                                                        (0 + 8) / 8]\r"
     ]
    },
    {
     "name": "stdout",
     "output_type": "stream",
     "text": [
      "+----------------------------+----------------------------------------+-------------+\n",
      "|dept_division               |service_request_type                    |avg_days_late|\n",
      "+----------------------------+----------------------------------------+-------------+\n",
      "|District 2                  |Request for Research/Information        |NaN          |\n",
      "|District 1                  |Request for Research/Information        |NaN          |\n",
      "|Code Enforcement            |Zoning: Junk Yards                      |178.32       |\n",
      "|Dangerous Premise           |Emergency: Main and Accessory Structures|173.51       |\n",
      "|Director's Office Horizontal|Status: On-Going CIMS Projects          |159.86       |\n",
      "|Code Enforcement (Internal) |Zoning: Recycle Yard                    |152.18       |\n",
      "|311 Call Center             |Complaint                               |136.78       |\n",
      "|Signs and Markings          |Markings Installation SMO (NEW)         |111.38       |\n",
      "|Code Enforcement            |Vendors                                 |71.22        |\n",
      "|Code Enforcement            |Donation Container Enforcement          |61.65        |\n",
      "|Code Enforcement            |No Address Posted                       |61.14        |\n",
      "|Code Enforcement            |Curbstoning                             |54.43        |\n",
      "|Trades                      |Fence/Gate Repair                       |45.97        |\n",
      "|Shops (Internal)            |Electrical                              |42.54        |\n",
      "|Trades                      |Sportfield Lighting                     |39.62        |\n",
      "|Waste Collection            |Solid Waste Fees and Charges            |35.86        |\n",
      "|Code Enforcement            |Dart Preliminary Inspection             |34.58        |\n",
      "|Engineering Division        |Street Light New Development            |31.83        |\n",
      "|Engineering Division        |Street Light Existing Res Sub Div       |30.07        |\n",
      "|Code Enforcement (IntExp)   |Boarding Home Inspection                |27.48        |\n",
      "+----------------------------+----------------------------------------+-------------+\n",
      "only showing top 20 rows\n",
      "\n"
     ]
    },
    {
     "name": "stderr",
     "output_type": "stream",
     "text": [
      "\r",
      "                                                                                \r"
     ]
    }
   ],
   "source": [
    "cases.groupby('dept_division', 'service_request_type').\\\n",
    "    agg(F.round(\n",
    "            F.avg('num_days_late')\\\n",
    "        , 2).\\\n",
    "        alias('avg_days_late')\n",
    "        ).\\\n",
    "    sort(F.col('avg_days_late').desc()).\\\n",
    "    show(truncate=False)"
   ]
  },
  {
   "cell_type": "markdown",
   "id": "0845cef0",
   "metadata": {},
   "source": [
    "#### When broken down, there are service types for 6 department that average over 100 hours late, and many others with an average of over 30 hours late"
   ]
  },
  {
   "cell_type": "code",
   "execution_count": null,
   "id": "d201f10b",
   "metadata": {},
   "outputs": [],
   "source": []
  }
 ],
 "metadata": {
  "kernelspec": {
   "display_name": "Python 3 (ipykernel)",
   "language": "python",
   "name": "python3"
  },
  "language_info": {
   "codemirror_mode": {
    "name": "ipython",
    "version": 3
   },
   "file_extension": ".py",
   "mimetype": "text/x-python",
   "name": "python",
   "nbconvert_exporter": "python",
   "pygments_lexer": "ipython3",
   "version": "3.9.13"
  }
 },
 "nbformat": 4,
 "nbformat_minor": 5
}
