{
 "cells": [
  {
   "cell_type": "code",
   "execution_count": 1,
   "id": "fc9cda74",
   "metadata": {},
   "outputs": [],
   "source": [
    "import pyspark.sql\n",
    "from pyspark.sql import functions as F\n",
    "import pandas as pd"
   ]
  },
  {
   "cell_type": "markdown",
   "id": "cd8c163a",
   "metadata": {},
   "source": [
    "# 1. Read the case, department, and source data into their own spark dataframes."
   ]
  },
  {
   "cell_type": "code",
   "execution_count": 2,
   "id": "11ad1720",
   "metadata": {},
   "outputs": [
    {
     "name": "stderr",
     "output_type": "stream",
     "text": [
      "Setting default log level to \"WARN\".\n",
      "To adjust logging level use sc.setLogLevel(newLevel). For SparkR, use setLogLevel(newLevel).\n",
      "23/05/19 16:02:28 WARN NativeCodeLoader: Unable to load native-hadoop library for your platform... using builtin-java classes where applicable\n"
     ]
    }
   ],
   "source": [
    "spark = pyspark.sql.SparkSession.builder.getOrCreate()"
   ]
  },
  {
   "cell_type": "code",
   "execution_count": 4,
   "id": "c2d11442",
   "metadata": {},
   "outputs": [],
   "source": [
    "pd_cases = pd.read_csv('311.csv')\n",
    "pd_dept = pd.read_csv('dept.csv')"
   ]
  },
  {
   "cell_type": "code",
   "execution_count": 20,
   "id": "6759f38c",
   "metadata": {},
   "outputs": [],
   "source": [
    "cases = spark.createDataFrame(pd_cases)"
   ]
  },
  {
   "cell_type": "code",
   "execution_count": 19,
   "id": "1de78872",
   "metadata": {},
   "outputs": [],
   "source": [
    "dept = spark.createDataFrame(pd_dept)"
   ]
  },
  {
   "cell_type": "code",
   "execution_count": 8,
   "id": "0b704aee",
   "metadata": {},
   "outputs": [
    {
     "name": "stderr",
     "output_type": "stream",
     "text": [
      "23/05/19 16:05:20 WARN TaskSetManager: Stage 3 contains a task of very large size (1346 KiB). The maximum recommended task size is 1000 KiB.\n",
      "[Stage 3:============================================>              (6 + 2) / 8]\r"
     ]
    },
    {
     "name": "stdout",
     "output_type": "stream",
     "text": [
      "-RECORD 0------------------------------------\n",
      " summary              | count                \n",
      " case_id              | 100000               \n",
      " case_opened_date     | 100000               \n",
      " case_closed_date     | 100000               \n",
      " SLA_due_date         | 100000               \n",
      " case_late            | 100000               \n",
      " num_days_late        | 100000               \n",
      " case_closed          | 100000               \n",
      " dept_division        | 100000               \n",
      " service_request_type | 100000               \n",
      " SLA_days             | 100000               \n",
      " case_status          | 100000               \n",
      " source_id            | 100000               \n",
      " request_address      | 100000               \n",
      " council_district     | 100000               \n",
      "-RECORD 1------------------------------------\n",
      " summary              | mean                 \n",
      " case_id              | 1.01422656004933E9   \n",
      " case_opened_date     | null                 \n",
      " case_closed_date     | NaN                  \n",
      " SLA_due_date         | NaN                  \n",
      " case_late            | null                 \n",
      " num_days_late        | NaN                  \n",
      " case_closed          | null                 \n",
      " dept_division        | null                 \n",
      " service_request_type | null                 \n",
      " SLA_days             | NaN                  \n",
      " case_status          | null                 \n",
      " source_id            | 136592.12481159836   \n",
      " request_address      | null                 \n",
      " council_district     | 4.54302              \n",
      "-RECORD 2------------------------------------\n",
      " summary              | stddev               \n",
      " case_id              | 56335.22377377268    \n",
      " case_opened_date     | null                 \n",
      " case_closed_date     | NaN                  \n",
      " SLA_due_date         | NaN                  \n",
      " case_late            | null                 \n",
      " num_days_late        | NaN                  \n",
      " case_closed          | null                 \n",
      " dept_division        | null                 \n",
      " service_request_type | null                 \n",
      " SLA_days             | NaN                  \n",
      " case_status          | null                 \n",
      " source_id            | 7110.724059297738    \n",
      " request_address      | null                 \n",
      " council_district     | 2.7253483364215243   \n",
      "-RECORD 3------------------------------------\n",
      " summary              | min                  \n",
      " case_id              | 1014127332           \n",
      " case_opened_date     | 1/1/18 0:42          \n",
      " case_closed_date     | 1/1/18 10:12         \n",
      " SLA_due_date         | 1/1/18 11:56         \n",
      " case_late            | NO                   \n",
      " num_days_late        | -1231.707778         \n",
      " case_closed          | NO                   \n",
      " dept_division        | 311 Call Center      \n",
      " service_request_type | 1st Call Bagged L... \n",
      " SLA_days             | 0.125                \n",
      " case_status          | Closed               \n",
      " source_id            | 100137               \n",
      " request_address      | 0  MAJESTIC WAY, ... \n",
      " council_district     | 0                    \n",
      "-RECORD 4------------------------------------\n",
      " summary              | max                  \n",
      " case_id              | 1014323008           \n",
      " case_opened_date     | 3/9/18 9:59          \n",
      " case_closed_date     | NaN                  \n",
      " SLA_due_date         | NaN                  \n",
      " case_late            | YES                  \n",
      " num_days_late        | NaN                  \n",
      " case_closed          | YES                  \n",
      " dept_division        | Waste Collection     \n",
      " service_request_type | Zoning: Visual Ob... \n",
      " SLA_days             | NaN                  \n",
      " case_status          | Open                 \n",
      " source_id            | yc16753              \n",
      " request_address      | ZULEMA and 41ST S... \n",
      " council_district     | 10                   \n",
      "\n"
     ]
    },
    {
     "name": "stderr",
     "output_type": "stream",
     "text": [
      "\r",
      "                                                                                \r"
     ]
    }
   ],
   "source": [
    "cases.describe().show(vertical=True)"
   ]
  },
  {
   "cell_type": "code",
   "execution_count": 9,
   "id": "218c1dc3",
   "metadata": {},
   "outputs": [
    {
     "name": "stdout",
     "output_type": "stream",
     "text": [
      "-RECORD 0--------------------------------------\n",
      " summary                | count                \n",
      " dept_division          | 39                   \n",
      " dept_name              | 39                   \n",
      " standardized_dept_name | 39                   \n",
      " dept_subject_to_SLA    | 39                   \n",
      "-RECORD 1--------------------------------------\n",
      " summary                | mean                 \n",
      " dept_division          | null                 \n",
      " dept_name              | NaN                  \n",
      " standardized_dept_name | null                 \n",
      " dept_subject_to_SLA    | null                 \n",
      "-RECORD 2--------------------------------------\n",
      " summary                | stddev               \n",
      " dept_division          | null                 \n",
      " dept_name              | null                 \n",
      " standardized_dept_name | null                 \n",
      " dept_subject_to_SLA    | null                 \n",
      "-RECORD 3--------------------------------------\n",
      " summary                | min                  \n",
      " dept_division          | 311 Call Center      \n",
      " dept_name              | Animal Care Services \n",
      " standardized_dept_name | Animal Care Services \n",
      " dept_subject_to_SLA    | NO                   \n",
      "-RECORD 4--------------------------------------\n",
      " summary                | max                  \n",
      " dept_division          | Waste Collection     \n",
      " dept_name              | Trans & Cap Impro... \n",
      " standardized_dept_name | Trans & Cap Impro... \n",
      " dept_subject_to_SLA    | YES                  \n",
      "\n"
     ]
    }
   ],
   "source": [
    "dept.describe().show(vertical=True)"
   ]
  },
  {
   "cell_type": "markdown",
   "id": "e6df1053",
   "metadata": {},
   "source": [
    "## 2. Write the code necessary to store the source data in both csv and json format, store these as sources_csv and sources_json"
   ]
  },
  {
   "cell_type": "markdown",
   "id": "35ea48be",
   "metadata": {},
   "source": [
    "Im going to do this with dept instead"
   ]
  },
  {
   "cell_type": "code",
   "execution_count": 10,
   "id": "abe2438e",
   "metadata": {},
   "outputs": [
    {
     "name": "stderr",
     "output_type": "stream",
     "text": [
      "                                                                                \r"
     ]
    }
   ],
   "source": [
    "dept.write.csv('data/dept', mode='overwrite', header=True)"
   ]
  },
  {
   "cell_type": "code",
   "execution_count": 12,
   "id": "b5cec482",
   "metadata": {},
   "outputs": [],
   "source": [
    "dept.write.json('data/dept', mode='overwrite')"
   ]
  },
  {
   "cell_type": "markdown",
   "id": "def26e62",
   "metadata": {},
   "source": [
    "### Inspect your folder structure. What do you notice?\n",
    "The files are split up into smaller files"
   ]
  },
  {
   "cell_type": "markdown",
   "id": "ece1251a",
   "metadata": {},
   "source": [
    "## 3. Inspect the data in your dataframes. Are the data types appropriate? Write the code necessary to cast the values to the appropriate types."
   ]
  },
  {
   "cell_type": "code",
   "execution_count": 13,
   "id": "7a9df402",
   "metadata": {},
   "outputs": [
    {
     "data": {
      "text/plain": [
       "[('case_id', 'bigint'),\n",
       " ('case_opened_date', 'string'),\n",
       " ('case_closed_date', 'string'),\n",
       " ('SLA_due_date', 'string'),\n",
       " ('case_late', 'string'),\n",
       " ('num_days_late', 'double'),\n",
       " ('case_closed', 'string'),\n",
       " ('dept_division', 'string'),\n",
       " ('service_request_type', 'string'),\n",
       " ('SLA_days', 'double'),\n",
       " ('case_status', 'string'),\n",
       " ('source_id', 'string'),\n",
       " ('request_address', 'string'),\n",
       " ('council_district', 'bigint')]"
      ]
     },
     "execution_count": 13,
     "metadata": {},
     "output_type": "execute_result"
    }
   ],
   "source": [
    "cases.dtypes"
   ]
  },
  {
   "cell_type": "code",
   "execution_count": 22,
   "id": "3c552f3c",
   "metadata": {},
   "outputs": [
    {
     "name": "stdout",
     "output_type": "stream",
     "text": [
      "+----------------+\n",
      "|case_opened_date|\n",
      "+----------------+\n",
      "|     1/1/18 0:42|\n",
      "|     1/1/18 0:46|\n",
      "+----------------+\n",
      "only showing top 2 rows\n",
      "\n"
     ]
    },
    {
     "name": "stderr",
     "output_type": "stream",
     "text": [
      "23/05/19 16:17:54 WARN TaskSetManager: Stage 14 contains a task of very large size (1346 KiB). The maximum recommended task size is 1000 KiB.\n"
     ]
    }
   ],
   "source": [
    "cases.select('case_opened_date').show(2)"
   ]
  },
  {
   "cell_type": "code",
   "execution_count": 24,
   "id": "c695e01e",
   "metadata": {},
   "outputs": [],
   "source": [
    "fmt = 'M/d/yy H:m'"
   ]
  },
  {
   "cell_type": "code",
   "execution_count": 29,
   "id": "c6348aee",
   "metadata": {},
   "outputs": [],
   "source": [
    "cases = cases.withColumn(\n",
    "    'case_opened_date',\n",
    "    F.to_timestamp('case_opened_date', fmt)\n",
    "    ).\\\n",
    "    withColumn(\n",
    "    'case_closed_date',\n",
    "    F.to_timestamp('case_closed_date', fmt)\n",
    "    ).\\\n",
    "    withColumn(\n",
    "    'SLA_due_date',\n",
    "    F.to_timestamp('SLA_due_date', fmt)\n",
    "    )"
   ]
  },
  {
   "cell_type": "code",
   "execution_count": 30,
   "id": "133a2e44",
   "metadata": {},
   "outputs": [
    {
     "name": "stdout",
     "output_type": "stream",
     "text": [
      "+-------------------+\n",
      "|   case_opened_date|\n",
      "+-------------------+\n",
      "|2018-01-01 00:42:00|\n",
      "|2018-01-01 00:46:00|\n",
      "+-------------------+\n",
      "only showing top 2 rows\n",
      "\n"
     ]
    },
    {
     "name": "stderr",
     "output_type": "stream",
     "text": [
      "23/05/19 16:24:25 WARN TaskSetManager: Stage 16 contains a task of very large size (1346 KiB). The maximum recommended task size is 1000 KiB.\n"
     ]
    }
   ],
   "source": [
    "cases.select('case_opened_date').show(2)"
   ]
  },
  {
   "cell_type": "code",
   "execution_count": 31,
   "id": "e116cc93",
   "metadata": {},
   "outputs": [
    {
     "name": "stdout",
     "output_type": "stream",
     "text": [
      "+-------------------+\n",
      "|       SLA_due_date|\n",
      "+-------------------+\n",
      "|2020-09-26 00:42:00|\n",
      "|2018-01-05 08:30:00|\n",
      "|2018-01-05 08:30:00|\n",
      "+-------------------+\n",
      "only showing top 3 rows\n",
      "\n"
     ]
    },
    {
     "name": "stderr",
     "output_type": "stream",
     "text": [
      "23/05/19 16:24:28 WARN TaskSetManager: Stage 17 contains a task of very large size (1346 KiB). The maximum recommended task size is 1000 KiB.\n"
     ]
    }
   ],
   "source": [
    "cases.select('SLA_due_date').show(3)"
   ]
  },
  {
   "cell_type": "code",
   "execution_count": 32,
   "id": "7237c37c",
   "metadata": {},
   "outputs": [
    {
     "data": {
      "text/plain": [
       "[('case_id', 'bigint'),\n",
       " ('case_opened_date', 'timestamp'),\n",
       " ('case_closed_date', 'timestamp'),\n",
       " ('SLA_due_date', 'timestamp'),\n",
       " ('case_late', 'string'),\n",
       " ('num_days_late', 'double'),\n",
       " ('case_closed', 'string'),\n",
       " ('dept_division', 'string'),\n",
       " ('service_request_type', 'string'),\n",
       " ('SLA_days', 'double'),\n",
       " ('case_status', 'string'),\n",
       " ('source_id', 'string'),\n",
       " ('request_address', 'string'),\n",
       " ('council_district', 'bigint')]"
      ]
     },
     "execution_count": 32,
     "metadata": {},
     "output_type": "execute_result"
    }
   ],
   "source": [
    "cases.dtypes"
   ]
  },
  {
   "cell_type": "code",
   "execution_count": 34,
   "id": "7bbbf4cd",
   "metadata": {},
   "outputs": [
    {
     "name": "stdout",
     "output_type": "stream",
     "text": [
      "+---------+-----------+-----------+\n",
      "|case_late|case_closed|case_status|\n",
      "+---------+-----------+-----------+\n",
      "|       NO|        YES|     Closed|\n",
      "|       NO|        YES|     Closed|\n",
      "|       NO|        YES|     Closed|\n",
      "+---------+-----------+-----------+\n",
      "only showing top 3 rows\n",
      "\n"
     ]
    },
    {
     "name": "stderr",
     "output_type": "stream",
     "text": [
      "23/05/19 16:25:42 WARN TaskSetManager: Stage 18 contains a task of very large size (1346 KiB). The maximum recommended task size is 1000 KiB.\n"
     ]
    }
   ],
   "source": [
    "cases.select('case_late', 'case_closed', 'case_status').show(3)"
   ]
  },
  {
   "cell_type": "code",
   "execution_count": 36,
   "id": "af6aad46",
   "metadata": {},
   "outputs": [
    {
     "name": "stderr",
     "output_type": "stream",
     "text": [
      "23/05/19 16:26:37 WARN TaskSetManager: Stage 19 contains a task of very large size (1346 KiB). The maximum recommended task size is 1000 KiB.\n",
      "[Stage 19:>                                                         (0 + 8) / 8]\r"
     ]
    },
    {
     "name": "stdout",
     "output_type": "stream",
     "text": [
      "+-----------+\n",
      "|case_status|\n",
      "+-----------+\n",
      "|       Open|\n",
      "|     Closed|\n",
      "+-----------+\n",
      "\n"
     ]
    },
    {
     "name": "stderr",
     "output_type": "stream",
     "text": [
      "\r",
      "                                                                                \r"
     ]
    }
   ],
   "source": [
    "cases.select('case_status').distinct().show()"
   ]
  },
  {
   "cell_type": "markdown",
   "id": "8cff5405",
   "metadata": {},
   "source": [
    "case_status is redundant with case_closed"
   ]
  },
  {
   "cell_type": "code",
   "execution_count": 37,
   "id": "5da44f95",
   "metadata": {},
   "outputs": [],
   "source": [
    "cases = cases.withColumn(\n",
    "    'case_closed', \n",
    "    F.expr('case_closed') == 'YES').\\\n",
    "    withColumn(\n",
    "    'case_late', \n",
    "    F.expr('case_late') == 'YES')"
   ]
  },
  {
   "cell_type": "code",
   "execution_count": 40,
   "id": "0accedab",
   "metadata": {},
   "outputs": [],
   "source": [
    "cases = cases.drop('case_status')"
   ]
  },
  {
   "cell_type": "code",
   "execution_count": 41,
   "id": "c3b1d563",
   "metadata": {},
   "outputs": [
    {
     "name": "stdout",
     "output_type": "stream",
     "text": [
      "-RECORD 0------------------------------------\n",
      " case_id              | 1014127332           \n",
      " case_opened_date     | 2018-01-01 00:42:00  \n",
      " case_closed_date     | 2018-01-01 12:29:00  \n",
      " SLA_due_date         | 2020-09-26 00:42:00  \n",
      " case_late            | false                \n",
      " num_days_late        | -998.5087616         \n",
      " case_closed          | true                 \n",
      " dept_division        | Field Operations     \n",
      " service_request_type | Stray Animal         \n",
      " SLA_days             | 999.0                \n",
      " source_id            | svcCRMLS             \n",
      " request_address      | 2315  EL PASO ST,... \n",
      " council_district     | 5                    \n",
      "only showing top 1 row\n",
      "\n"
     ]
    },
    {
     "name": "stderr",
     "output_type": "stream",
     "text": [
      "23/05/19 16:29:54 WARN TaskSetManager: Stage 24 contains a task of very large size (1346 KiB). The maximum recommended task size is 1000 KiB.\n"
     ]
    }
   ],
   "source": [
    "cases.show(1, vertical=True)"
   ]
  },
  {
   "cell_type": "code",
   "execution_count": 44,
   "id": "8175f4f5",
   "metadata": {},
   "outputs": [],
   "source": [
    "cases = cases.withColumn(\n",
    "    'request_address',\n",
    "    F.trim(F.lower('request_address'))\n",
    ")"
   ]
  },
  {
   "cell_type": "code",
   "execution_count": 45,
   "id": "7dd86a23",
   "metadata": {},
   "outputs": [
    {
     "name": "stderr",
     "output_type": "stream",
     "text": [
      "23/05/19 16:34:19 WARN TaskSetManager: Stage 26 contains a task of very large size (1346 KiB). The maximum recommended task size is 1000 KiB.\n"
     ]
    },
    {
     "name": "stdout",
     "output_type": "stream",
     "text": [
      "-RECORD 0------------------------------------\n",
      " case_id              | 1014127332           \n",
      " case_opened_date     | 2018-01-01 00:42:00  \n",
      " case_closed_date     | 2018-01-01 12:29:00  \n",
      " SLA_due_date         | 2020-09-26 00:42:00  \n",
      " case_late            | false                \n",
      " num_days_late        | -998.5087616         \n",
      " case_closed          | true                 \n",
      " dept_division        | Field Operations     \n",
      " service_request_type | Stray Animal         \n",
      " SLA_days             | 999.0                \n",
      " source_id            | svcCRMLS             \n",
      " request_address      | 2315  el paso st,... \n",
      " council_district     | 5                    \n",
      "only showing top 1 row\n",
      "\n"
     ]
    }
   ],
   "source": [
    "cases.show(1, vertical=True)"
   ]
  },
  {
   "cell_type": "markdown",
   "id": "e270b100",
   "metadata": {},
   "source": [
    "# part 2\n",
    "## 1. How old is the latest (in terms of days past SLA) currently open issue? How long has the oldest (in terms of days since opened) currently opened issue been open?"
   ]
  },
  {
   "cell_type": "code",
   "execution_count": 65,
   "id": "16f6f21e",
   "metadata": {},
   "outputs": [
    {
     "ename": "AnalysisException",
     "evalue": "[MISSING_GROUP_BY] The query does not include a GROUP BY clause. Add GROUP BY or turn it into the window functions using OVER clauses.;\nAggregate [case_id#2284L, case_opened_date#2375, case_closed_date#2390, SLA_due_date#2405, case_late#2473, num_days_late#2289, case_closed#2458, dept_division#2291, service_request_type#2292, SLA_days#2293, source_id#2295, request_address#2749, council_district#2297L, datediff(cast(current_timestamp() as date), cast(max(case_opened_date#2375) as date)) AS newest_open#2922]\n+- Filter (case_closed#2458 = false)\n   +- Project [case_id#2284L, case_opened_date#2375, case_closed_date#2390, SLA_due_date#2405, case_late#2473, num_days_late#2289, case_closed#2458, dept_division#2291, service_request_type#2292, SLA_days#2293, source_id#2295, trim(lower(request_address#2296), None) AS request_address#2749, council_district#2297L]\n      +- Project [case_id#2284L, case_opened_date#2375, case_closed_date#2390, SLA_due_date#2405, case_late#2473, num_days_late#2289, case_closed#2458, dept_division#2291, service_request_type#2292, SLA_days#2293, source_id#2295, request_address#2296, council_district#2297L]\n         +- Project [case_id#2284L, case_opened_date#2375, case_closed_date#2390, SLA_due_date#2405, (case_late#2288 = YES) AS case_late#2473, num_days_late#2289, case_closed#2458, dept_division#2291, service_request_type#2292, SLA_days#2293, case_status#2294, source_id#2295, request_address#2296, council_district#2297L]\n            +- Project [case_id#2284L, case_opened_date#2375, case_closed_date#2390, SLA_due_date#2405, case_late#2288, num_days_late#2289, (case_closed#2290 = YES) AS case_closed#2458, dept_division#2291, service_request_type#2292, SLA_days#2293, case_status#2294, source_id#2295, request_address#2296, council_district#2297L]\n               +- Project [case_id#2284L, case_opened_date#2375, case_closed_date#2390, to_timestamp(SLA_due_date#2287, Some(M/d/yy H:m), TimestampType, Some(America/Chicago), false) AS SLA_due_date#2405, case_late#2288, num_days_late#2289, case_closed#2290, dept_division#2291, service_request_type#2292, SLA_days#2293, case_status#2294, source_id#2295, request_address#2296, council_district#2297L]\n                  +- Project [case_id#2284L, case_opened_date#2375, to_timestamp(case_closed_date#2286, Some(M/d/yy H:m), TimestampType, Some(America/Chicago), false) AS case_closed_date#2390, SLA_due_date#2287, case_late#2288, num_days_late#2289, case_closed#2290, dept_division#2291, service_request_type#2292, SLA_days#2293, case_status#2294, source_id#2295, request_address#2296, council_district#2297L]\n                     +- Project [case_id#2284L, to_timestamp(case_opened_date#2339, Some(M/d/yy H:m), TimestampType, Some(America/Chicago), false) AS case_opened_date#2375, case_closed_date#2286, SLA_due_date#2287, case_late#2288, num_days_late#2289, case_closed#2290, dept_division#2291, service_request_type#2292, SLA_days#2293, case_status#2294, source_id#2295, request_address#2296, council_district#2297L]\n                        +- Project [case_id#2284L, to_timestamp(case_opened_date#2324, Some(M/d/yy H:m), TimestampType, Some(America/Chicago), false) AS case_opened_date#2339, case_closed_date#2286, SLA_due_date#2287, case_late#2288, num_days_late#2289, case_closed#2290, dept_division#2291, service_request_type#2292, SLA_days#2293, case_status#2294, source_id#2295, request_address#2296, council_district#2297L]\n                           +- Project [case_id#2284L, to_timestamp(case_opened_date#2285, Some(M/d/yy H:m), TimestampType, Some(America/Chicago), false) AS case_opened_date#2324, case_closed_date#2286, SLA_due_date#2287, case_late#2288, num_days_late#2289, case_closed#2290, dept_division#2291, service_request_type#2292, SLA_days#2293, case_status#2294, source_id#2295, request_address#2296, council_district#2297L]\n                              +- LogicalRDD [case_id#2284L, case_opened_date#2285, case_closed_date#2286, SLA_due_date#2287, case_late#2288, num_days_late#2289, case_closed#2290, dept_division#2291, service_request_type#2292, SLA_days#2293, case_status#2294, source_id#2295, request_address#2296, council_district#2297L], false\n",
     "output_type": "error",
     "traceback": [
      "\u001b[0;31m---------------------------------------------------------------------------\u001b[0m",
      "\u001b[0;31mAnalysisException\u001b[0m                         Traceback (most recent call last)",
      "\u001b[0;32m/var/folders/49/v6sf5vy165dghytk4qv6jfhc0000gn/T/ipykernel_2271/2216695863.py\u001b[0m in \u001b[0;36m<module>\u001b[0;34m\u001b[0m\n\u001b[0;32m----> 1\u001b[0;31m \u001b[0mcases\u001b[0m\u001b[0;34m.\u001b[0m\u001b[0mfilter\u001b[0m\u001b[0;34m(\u001b[0m\u001b[0;34m'case_closed == False'\u001b[0m\u001b[0;34m)\u001b[0m\u001b[0;34m.\u001b[0m\u001b[0;31m\\\u001b[0m\u001b[0;34m\u001b[0m\u001b[0;34m\u001b[0m\u001b[0m\n\u001b[0m\u001b[1;32m      2\u001b[0m     withColumn('newest_open',\n\u001b[1;32m      3\u001b[0m         \u001b[0mF\u001b[0m\u001b[0;34m.\u001b[0m\u001b[0mdatediff\u001b[0m\u001b[0;34m(\u001b[0m\u001b[0mF\u001b[0m\u001b[0;34m.\u001b[0m\u001b[0mcurrent_timestamp\u001b[0m\u001b[0;34m(\u001b[0m\u001b[0;34m)\u001b[0m\u001b[0;34m,\u001b[0m \u001b[0mF\u001b[0m\u001b[0;34m.\u001b[0m\u001b[0mmax\u001b[0m\u001b[0;34m(\u001b[0m\u001b[0;34m'case_opened_date'\u001b[0m\u001b[0;34m)\u001b[0m\u001b[0;34m)\u001b[0m\u001b[0;34m\u001b[0m\u001b[0;34m\u001b[0m\u001b[0m\n\u001b[1;32m      4\u001b[0m     ).show()\n",
      "\u001b[0;32m/opt/anaconda3/lib/python3.9/site-packages/pyspark/sql/dataframe.py\u001b[0m in \u001b[0;36mwithColumn\u001b[0;34m(self, colName, col)\u001b[0m\n\u001b[1;32m   4787\u001b[0m                 \u001b[0mmessage_parameters\u001b[0m\u001b[0;34m=\u001b[0m\u001b[0;34m{\u001b[0m\u001b[0;34m\"arg_name\"\u001b[0m\u001b[0;34m:\u001b[0m \u001b[0;34m\"col\"\u001b[0m\u001b[0;34m,\u001b[0m \u001b[0;34m\"arg_type\"\u001b[0m\u001b[0;34m:\u001b[0m \u001b[0mtype\u001b[0m\u001b[0;34m(\u001b[0m\u001b[0mcol\u001b[0m\u001b[0;34m)\u001b[0m\u001b[0;34m.\u001b[0m\u001b[0m__name__\u001b[0m\u001b[0;34m}\u001b[0m\u001b[0;34m,\u001b[0m\u001b[0;34m\u001b[0m\u001b[0;34m\u001b[0m\u001b[0m\n\u001b[1;32m   4788\u001b[0m             )\n\u001b[0;32m-> 4789\u001b[0;31m         \u001b[0;32mreturn\u001b[0m \u001b[0mDataFrame\u001b[0m\u001b[0;34m(\u001b[0m\u001b[0mself\u001b[0m\u001b[0;34m.\u001b[0m\u001b[0m_jdf\u001b[0m\u001b[0;34m.\u001b[0m\u001b[0mwithColumn\u001b[0m\u001b[0;34m(\u001b[0m\u001b[0mcolName\u001b[0m\u001b[0;34m,\u001b[0m \u001b[0mcol\u001b[0m\u001b[0;34m.\u001b[0m\u001b[0m_jc\u001b[0m\u001b[0;34m)\u001b[0m\u001b[0;34m,\u001b[0m \u001b[0mself\u001b[0m\u001b[0;34m.\u001b[0m\u001b[0msparkSession\u001b[0m\u001b[0;34m)\u001b[0m\u001b[0;34m\u001b[0m\u001b[0;34m\u001b[0m\u001b[0m\n\u001b[0m\u001b[1;32m   4790\u001b[0m \u001b[0;34m\u001b[0m\u001b[0m\n\u001b[1;32m   4791\u001b[0m     \u001b[0;32mdef\u001b[0m \u001b[0mwithColumnRenamed\u001b[0m\u001b[0;34m(\u001b[0m\u001b[0mself\u001b[0m\u001b[0;34m,\u001b[0m \u001b[0mexisting\u001b[0m\u001b[0;34m:\u001b[0m \u001b[0mstr\u001b[0m\u001b[0;34m,\u001b[0m \u001b[0mnew\u001b[0m\u001b[0;34m:\u001b[0m \u001b[0mstr\u001b[0m\u001b[0;34m)\u001b[0m \u001b[0;34m->\u001b[0m \u001b[0;34m\"DataFrame\"\u001b[0m\u001b[0;34m:\u001b[0m\u001b[0;34m\u001b[0m\u001b[0;34m\u001b[0m\u001b[0m\n",
      "\u001b[0;32m/opt/anaconda3/lib/python3.9/site-packages/py4j/java_gateway.py\u001b[0m in \u001b[0;36m__call__\u001b[0;34m(self, *args)\u001b[0m\n\u001b[1;32m   1320\u001b[0m \u001b[0;34m\u001b[0m\u001b[0m\n\u001b[1;32m   1321\u001b[0m         \u001b[0manswer\u001b[0m \u001b[0;34m=\u001b[0m \u001b[0mself\u001b[0m\u001b[0;34m.\u001b[0m\u001b[0mgateway_client\u001b[0m\u001b[0;34m.\u001b[0m\u001b[0msend_command\u001b[0m\u001b[0;34m(\u001b[0m\u001b[0mcommand\u001b[0m\u001b[0;34m)\u001b[0m\u001b[0;34m\u001b[0m\u001b[0;34m\u001b[0m\u001b[0m\n\u001b[0;32m-> 1322\u001b[0;31m         return_value = get_return_value(\n\u001b[0m\u001b[1;32m   1323\u001b[0m             answer, self.gateway_client, self.target_id, self.name)\n\u001b[1;32m   1324\u001b[0m \u001b[0;34m\u001b[0m\u001b[0m\n",
      "\u001b[0;32m/opt/anaconda3/lib/python3.9/site-packages/pyspark/errors/exceptions/captured.py\u001b[0m in \u001b[0;36mdeco\u001b[0;34m(*a, **kw)\u001b[0m\n\u001b[1;32m    173\u001b[0m                 \u001b[0;31m# Hide where the exception came from that shows a non-Pythonic\u001b[0m\u001b[0;34m\u001b[0m\u001b[0;34m\u001b[0m\u001b[0m\n\u001b[1;32m    174\u001b[0m                 \u001b[0;31m# JVM exception message.\u001b[0m\u001b[0;34m\u001b[0m\u001b[0;34m\u001b[0m\u001b[0m\n\u001b[0;32m--> 175\u001b[0;31m                 \u001b[0;32mraise\u001b[0m \u001b[0mconverted\u001b[0m \u001b[0;32mfrom\u001b[0m \u001b[0;32mNone\u001b[0m\u001b[0;34m\u001b[0m\u001b[0;34m\u001b[0m\u001b[0m\n\u001b[0m\u001b[1;32m    176\u001b[0m             \u001b[0;32melse\u001b[0m\u001b[0;34m:\u001b[0m\u001b[0;34m\u001b[0m\u001b[0;34m\u001b[0m\u001b[0m\n\u001b[1;32m    177\u001b[0m                 \u001b[0;32mraise\u001b[0m\u001b[0;34m\u001b[0m\u001b[0;34m\u001b[0m\u001b[0m\n",
      "\u001b[0;31mAnalysisException\u001b[0m: [MISSING_GROUP_BY] The query does not include a GROUP BY clause. Add GROUP BY or turn it into the window functions using OVER clauses.;\nAggregate [case_id#2284L, case_opened_date#2375, case_closed_date#2390, SLA_due_date#2405, case_late#2473, num_days_late#2289, case_closed#2458, dept_division#2291, service_request_type#2292, SLA_days#2293, source_id#2295, request_address#2749, council_district#2297L, datediff(cast(current_timestamp() as date), cast(max(case_opened_date#2375) as date)) AS newest_open#2922]\n+- Filter (case_closed#2458 = false)\n   +- Project [case_id#2284L, case_opened_date#2375, case_closed_date#2390, SLA_due_date#2405, case_late#2473, num_days_late#2289, case_closed#2458, dept_division#2291, service_request_type#2292, SLA_days#2293, source_id#2295, trim(lower(request_address#2296), None) AS request_address#2749, council_district#2297L]\n      +- Project [case_id#2284L, case_opened_date#2375, case_closed_date#2390, SLA_due_date#2405, case_late#2473, num_days_late#2289, case_closed#2458, dept_division#2291, service_request_type#2292, SLA_days#2293, source_id#2295, request_address#2296, council_district#2297L]\n         +- Project [case_id#2284L, case_opened_date#2375, case_closed_date#2390, SLA_due_date#2405, (case_late#2288 = YES) AS case_late#2473, num_days_late#2289, case_closed#2458, dept_division#2291, service_request_type#2292, SLA_days#2293, case_status#2294, source_id#2295, request_address#2296, council_district#2297L]\n            +- Project [case_id#2284L, case_opened_date#2375, case_closed_date#2390, SLA_due_date#2405, case_late#2288, num_days_late#2289, (case_closed#2290 = YES) AS case_closed#2458, dept_division#2291, service_request_type#2292, SLA_days#2293, case_status#2294, source_id#2295, request_address#2296, council_district#2297L]\n               +- Project [case_id#2284L, case_opened_date#2375, case_closed_date#2390, to_timestamp(SLA_due_date#2287, Some(M/d/yy H:m), TimestampType, Some(America/Chicago), false) AS SLA_due_date#2405, case_late#2288, num_days_late#2289, case_closed#2290, dept_division#2291, service_request_type#2292, SLA_days#2293, case_status#2294, source_id#2295, request_address#2296, council_district#2297L]\n                  +- Project [case_id#2284L, case_opened_date#2375, to_timestamp(case_closed_date#2286, Some(M/d/yy H:m), TimestampType, Some(America/Chicago), false) AS case_closed_date#2390, SLA_due_date#2287, case_late#2288, num_days_late#2289, case_closed#2290, dept_division#2291, service_request_type#2292, SLA_days#2293, case_status#2294, source_id#2295, request_address#2296, council_district#2297L]\n                     +- Project [case_id#2284L, to_timestamp(case_opened_date#2339, Some(M/d/yy H:m), TimestampType, Some(America/Chicago), false) AS case_opened_date#2375, case_closed_date#2286, SLA_due_date#2287, case_late#2288, num_days_late#2289, case_closed#2290, dept_division#2291, service_request_type#2292, SLA_days#2293, case_status#2294, source_id#2295, request_address#2296, council_district#2297L]\n                        +- Project [case_id#2284L, to_timestamp(case_opened_date#2324, Some(M/d/yy H:m), TimestampType, Some(America/Chicago), false) AS case_opened_date#2339, case_closed_date#2286, SLA_due_date#2287, case_late#2288, num_days_late#2289, case_closed#2290, dept_division#2291, service_request_type#2292, SLA_days#2293, case_status#2294, source_id#2295, request_address#2296, council_district#2297L]\n                           +- Project [case_id#2284L, to_timestamp(case_opened_date#2285, Some(M/d/yy H:m), TimestampType, Some(America/Chicago), false) AS case_opened_date#2324, case_closed_date#2286, SLA_due_date#2287, case_late#2288, num_days_late#2289, case_closed#2290, dept_division#2291, service_request_type#2292, SLA_days#2293, case_status#2294, source_id#2295, request_address#2296, council_district#2297L]\n                              +- LogicalRDD [case_id#2284L, case_opened_date#2285, case_closed_date#2286, SLA_due_date#2287, case_late#2288, num_days_late#2289, case_closed#2290, dept_division#2291, service_request_type#2292, SLA_days#2293, case_status#2294, source_id#2295, request_address#2296, council_district#2297L], false\n"
     ]
    }
   ],
   "source": [
    "cases.filter('case_closed == False').\\\n",
    "    withColumn('newest_open',\n",
    "        F.datediff(F.current_timestamp(), F.max('case_opened_date'))\n",
    "    ).show()"
   ]
  },
  {
   "cell_type": "code",
   "execution_count": null,
   "id": "f1aaaf30",
   "metadata": {},
   "outputs": [],
   "source": []
  }
 ],
 "metadata": {
  "kernelspec": {
   "display_name": "Python 3 (ipykernel)",
   "language": "python",
   "name": "python3"
  },
  "language_info": {
   "codemirror_mode": {
    "name": "ipython",
    "version": 3
   },
   "file_extension": ".py",
   "mimetype": "text/x-python",
   "name": "python",
   "nbconvert_exporter": "python",
   "pygments_lexer": "ipython3",
   "version": "3.9.13"
  }
 },
 "nbformat": 4,
 "nbformat_minor": 5
}
