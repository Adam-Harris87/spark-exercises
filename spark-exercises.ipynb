{
 "cells": [
  {
   "cell_type": "code",
   "execution_count": 1,
   "id": "d82b5328",
   "metadata": {},
   "outputs": [],
   "source": [
    "import numpy as np\n",
    "import pandas as pd\n",
    "import pyspark\n",
    "from pyspark.sql import functions as F"
   ]
  },
  {
   "cell_type": "markdown",
   "id": "7504e5b3",
   "metadata": {},
   "source": [
    "# 1. Create a spark data frame that contains your favorite programming languages.\n",
    "- The name of the column should be language\n",
    "- View the schema of the dataframe\n",
    "- Output the shape of the dataframe\n",
    "- Show the first 5 records in the dataframe"
   ]
  },
  {
   "cell_type": "code",
   "execution_count": 2,
   "id": "ab5855cb",
   "metadata": {},
   "outputs": [
    {
     "name": "stderr",
     "output_type": "stream",
     "text": [
      "Setting default log level to \"WARN\".\n",
      "To adjust logging level use sc.setLogLevel(newLevel). For SparkR, use setLogLevel(newLevel).\n",
      "23/05/19 13:58:42 WARN NativeCodeLoader: Unable to load native-hadoop library for your platform... using builtin-java classes where applicable\n"
     ]
    }
   ],
   "source": [
    "spark = pyspark.sql.SparkSession.builder.getOrCreate()"
   ]
  },
  {
   "cell_type": "code",
   "execution_count": 3,
   "id": "8ca2be2f",
   "metadata": {},
   "outputs": [],
   "source": [
    "lang = spark.createDataFrame(\n",
    "    pd.DataFrame(\n",
    "        {\n",
    "            \"language\": ['python', 'sql', 'c#', 'vba', 'java']\n",
    "        }\n",
    "    )\n",
    ")"
   ]
  },
  {
   "cell_type": "code",
   "execution_count": 4,
   "id": "89deba50",
   "metadata": {},
   "outputs": [
    {
     "data": {
      "text/plain": [
       "StructType([StructField('language', StringType(), True)])"
      ]
     },
     "execution_count": 4,
     "metadata": {},
     "output_type": "execute_result"
    }
   ],
   "source": [
    "# View the schema of the dataframe\n",
    "lang.schema"
   ]
  },
  {
   "cell_type": "code",
   "execution_count": 5,
   "id": "ae3095c8",
   "metadata": {},
   "outputs": [
    {
     "name": "stderr",
     "output_type": "stream",
     "text": [
      "                                                                                \r"
     ]
    },
    {
     "data": {
      "text/plain": [
       "(5, 1)"
      ]
     },
     "execution_count": 5,
     "metadata": {},
     "output_type": "execute_result"
    }
   ],
   "source": [
    "# Output the shape of the dataframe\n",
    "lang.count(), len(lang.columns)"
   ]
  },
  {
   "cell_type": "code",
   "execution_count": 6,
   "id": "54fa92e4",
   "metadata": {},
   "outputs": [
    {
     "name": "stdout",
     "output_type": "stream",
     "text": [
      "+--------+\n",
      "|language|\n",
      "+--------+\n",
      "|  python|\n",
      "|     sql|\n",
      "|      c#|\n",
      "|     vba|\n",
      "|    java|\n",
      "+--------+\n",
      "\n"
     ]
    }
   ],
   "source": [
    "# Show the first 5 records in the dataframe\n",
    "lang.show(5)"
   ]
  },
  {
   "cell_type": "markdown",
   "id": "014b689e",
   "metadata": {},
   "source": [
    "# 2. Load the mpg dataset as a spark dataframe.\n",
    "- Create 1 column of output that contains a message like the one below:\n",
    "\n",
    " - The 1999 audi a4 has a 4 cylinder engine.\n",
    "- For each vehicle.\n",
    "- Transform the trans column so that it only contains either manual or auto."
   ]
  },
  {
   "cell_type": "code",
   "execution_count": 7,
   "id": "d6ba22f7",
   "metadata": {},
   "outputs": [],
   "source": [
    "from pydataset import data"
   ]
  },
  {
   "cell_type": "code",
   "execution_count": 8,
   "id": "86dddecd",
   "metadata": {},
   "outputs": [],
   "source": [
    "mpg = data('mpg')"
   ]
  },
  {
   "cell_type": "code",
   "execution_count": 9,
   "id": "5a44b8ed",
   "metadata": {},
   "outputs": [
    {
     "data": {
      "text/html": [
       "<div>\n",
       "<style scoped>\n",
       "    .dataframe tbody tr th:only-of-type {\n",
       "        vertical-align: middle;\n",
       "    }\n",
       "\n",
       "    .dataframe tbody tr th {\n",
       "        vertical-align: top;\n",
       "    }\n",
       "\n",
       "    .dataframe thead th {\n",
       "        text-align: right;\n",
       "    }\n",
       "</style>\n",
       "<table border=\"1\" class=\"dataframe\">\n",
       "  <thead>\n",
       "    <tr style=\"text-align: right;\">\n",
       "      <th></th>\n",
       "      <th>manufacturer</th>\n",
       "      <th>model</th>\n",
       "      <th>displ</th>\n",
       "      <th>year</th>\n",
       "      <th>cyl</th>\n",
       "      <th>trans</th>\n",
       "      <th>drv</th>\n",
       "      <th>cty</th>\n",
       "      <th>hwy</th>\n",
       "      <th>fl</th>\n",
       "      <th>class</th>\n",
       "    </tr>\n",
       "  </thead>\n",
       "  <tbody>\n",
       "    <tr>\n",
       "      <th>1</th>\n",
       "      <td>audi</td>\n",
       "      <td>a4</td>\n",
       "      <td>1.8</td>\n",
       "      <td>1999</td>\n",
       "      <td>4</td>\n",
       "      <td>auto(l5)</td>\n",
       "      <td>f</td>\n",
       "      <td>18</td>\n",
       "      <td>29</td>\n",
       "      <td>p</td>\n",
       "      <td>compact</td>\n",
       "    </tr>\n",
       "    <tr>\n",
       "      <th>2</th>\n",
       "      <td>audi</td>\n",
       "      <td>a4</td>\n",
       "      <td>1.8</td>\n",
       "      <td>1999</td>\n",
       "      <td>4</td>\n",
       "      <td>manual(m5)</td>\n",
       "      <td>f</td>\n",
       "      <td>21</td>\n",
       "      <td>29</td>\n",
       "      <td>p</td>\n",
       "      <td>compact</td>\n",
       "    </tr>\n",
       "    <tr>\n",
       "      <th>3</th>\n",
       "      <td>audi</td>\n",
       "      <td>a4</td>\n",
       "      <td>2.0</td>\n",
       "      <td>2008</td>\n",
       "      <td>4</td>\n",
       "      <td>manual(m6)</td>\n",
       "      <td>f</td>\n",
       "      <td>20</td>\n",
       "      <td>31</td>\n",
       "      <td>p</td>\n",
       "      <td>compact</td>\n",
       "    </tr>\n",
       "    <tr>\n",
       "      <th>4</th>\n",
       "      <td>audi</td>\n",
       "      <td>a4</td>\n",
       "      <td>2.0</td>\n",
       "      <td>2008</td>\n",
       "      <td>4</td>\n",
       "      <td>auto(av)</td>\n",
       "      <td>f</td>\n",
       "      <td>21</td>\n",
       "      <td>30</td>\n",
       "      <td>p</td>\n",
       "      <td>compact</td>\n",
       "    </tr>\n",
       "    <tr>\n",
       "      <th>5</th>\n",
       "      <td>audi</td>\n",
       "      <td>a4</td>\n",
       "      <td>2.8</td>\n",
       "      <td>1999</td>\n",
       "      <td>6</td>\n",
       "      <td>auto(l5)</td>\n",
       "      <td>f</td>\n",
       "      <td>16</td>\n",
       "      <td>26</td>\n",
       "      <td>p</td>\n",
       "      <td>compact</td>\n",
       "    </tr>\n",
       "  </tbody>\n",
       "</table>\n",
       "</div>"
      ],
      "text/plain": [
       "  manufacturer model  displ  year  cyl       trans drv  cty  hwy fl    class\n",
       "1         audi    a4    1.8  1999    4    auto(l5)   f   18   29  p  compact\n",
       "2         audi    a4    1.8  1999    4  manual(m5)   f   21   29  p  compact\n",
       "3         audi    a4    2.0  2008    4  manual(m6)   f   20   31  p  compact\n",
       "4         audi    a4    2.0  2008    4    auto(av)   f   21   30  p  compact\n",
       "5         audi    a4    2.8  1999    6    auto(l5)   f   16   26  p  compact"
      ]
     },
     "execution_count": 9,
     "metadata": {},
     "output_type": "execute_result"
    }
   ],
   "source": [
    "mpg.head()"
   ]
  },
  {
   "cell_type": "code",
   "execution_count": 10,
   "id": "664b16b6",
   "metadata": {},
   "outputs": [],
   "source": [
    "mpg = spark.createDataFrame(mpg)"
   ]
  },
  {
   "cell_type": "code",
   "execution_count": 11,
   "id": "7c2150d8",
   "metadata": {},
   "outputs": [
    {
     "name": "stdout",
     "output_type": "stream",
     "text": [
      "+------------+-----+-----+----+---+----------+---+---+---+---+-------+\n",
      "|manufacturer|model|displ|year|cyl|     trans|drv|cty|hwy| fl|  class|\n",
      "+------------+-----+-----+----+---+----------+---+---+---+---+-------+\n",
      "|        audi|   a4|  1.8|1999|  4|  auto(l5)|  f| 18| 29|  p|compact|\n",
      "|        audi|   a4|  1.8|1999|  4|manual(m5)|  f| 21| 29|  p|compact|\n",
      "|        audi|   a4|  2.0|2008|  4|manual(m6)|  f| 20| 31|  p|compact|\n",
      "|        audi|   a4|  2.0|2008|  4|  auto(av)|  f| 21| 30|  p|compact|\n",
      "|        audi|   a4|  2.8|1999|  6|  auto(l5)|  f| 16| 26|  p|compact|\n",
      "+------------+-----+-----+----+---+----------+---+---+---+---+-------+\n",
      "only showing top 5 rows\n",
      "\n"
     ]
    }
   ],
   "source": [
    "mpg.show(5)"
   ]
  },
  {
   "cell_type": "code",
   "execution_count": 12,
   "id": "10b09e0b",
   "metadata": {},
   "outputs": [
    {
     "name": "stdout",
     "output_type": "stream",
     "text": [
      "+----------------------------------------+\n",
      "|message                                 |\n",
      "+----------------------------------------+\n",
      "|The 1999 audi a4 has a 4 cylinder engine|\n",
      "|The 1999 audi a4 has a 4 cylinder engine|\n",
      "|The 2008 audi a4 has a 4 cylinder engine|\n",
      "|The 2008 audi a4 has a 4 cylinder engine|\n",
      "|The 1999 audi a4 has a 6 cylinder engine|\n",
      "+----------------------------------------+\n",
      "only showing top 5 rows\n",
      "\n"
     ]
    }
   ],
   "source": [
    "# The 1999 audi a4 has a 4 cylinder engine.\n",
    "mpg.select(F.concat(\n",
    "    F.lit('The '),\n",
    "    F.col('year'), \n",
    "    F.lit(' '),\n",
    "    F.col('manufacturer'), \n",
    "    F.lit(' '),\n",
    "    F.col('model'),\n",
    "    F.lit(' has a '),\n",
    "    F.col('cyl'),\n",
    "    F.lit(' cylinder engine')\n",
    ").alias('message')).show(5, truncate=False)"
   ]
  },
  {
   "cell_type": "code",
   "execution_count": 13,
   "id": "92e2c4ad",
   "metadata": {},
   "outputs": [
    {
     "name": "stdout",
     "output_type": "stream",
     "text": [
      "+------------+----------+-----+----+---+------+---+---+---+---+-------+\n",
      "|manufacturer|     model|displ|year|cyl| trans|drv|cty|hwy| fl|  class|\n",
      "+------------+----------+-----+----+---+------+---+---+---+---+-------+\n",
      "|        audi|        a4|  1.8|1999|  4|  auto|  f| 18| 29|  p|compact|\n",
      "|        audi|        a4|  1.8|1999|  4|manual|  f| 21| 29|  p|compact|\n",
      "|        audi|        a4|  2.0|2008|  4|manual|  f| 20| 31|  p|compact|\n",
      "|        audi|        a4|  2.0|2008|  4|  auto|  f| 21| 30|  p|compact|\n",
      "|        audi|        a4|  2.8|1999|  6|  auto|  f| 16| 26|  p|compact|\n",
      "|        audi|        a4|  2.8|1999|  6|manual|  f| 18| 26|  p|compact|\n",
      "|        audi|        a4|  3.1|2008|  6|  auto|  f| 18| 27|  p|compact|\n",
      "|        audi|a4 quattro|  1.8|1999|  4|manual|  4| 18| 26|  p|compact|\n",
      "|        audi|a4 quattro|  1.8|1999|  4|  auto|  4| 16| 25|  p|compact|\n",
      "|        audi|a4 quattro|  2.0|2008|  4|manual|  4| 20| 28|  p|compact|\n",
      "+------------+----------+-----+----+---+------+---+---+---+---+-------+\n",
      "only showing top 10 rows\n",
      "\n"
     ]
    }
   ],
   "source": [
    "# Transform the trans column so that it only contains either manual or auto.\n",
    "mpg = mpg.withColumn('trans', \n",
    "    F.regexp_extract('trans', '^([a-z]+?)\\(', 1)\n",
    ")\n",
    "mpg.show(10)"
   ]
  },
  {
   "cell_type": "markdown",
   "id": "c60c51d8",
   "metadata": {},
   "source": [
    "# 3. Load the tips dataset as a spark dataframe.\n",
    "- What percentage of observations are smokers?\n",
    "- Create a column that contains the tip percentage\n",
    "- Calculate the average tip percentage for each combination of sex and smoker."
   ]
  },
  {
   "cell_type": "code",
   "execution_count": 14,
   "id": "d706b8f6",
   "metadata": {},
   "outputs": [
    {
     "data": {
      "text/html": [
       "<div>\n",
       "<style scoped>\n",
       "    .dataframe tbody tr th:only-of-type {\n",
       "        vertical-align: middle;\n",
       "    }\n",
       "\n",
       "    .dataframe tbody tr th {\n",
       "        vertical-align: top;\n",
       "    }\n",
       "\n",
       "    .dataframe thead th {\n",
       "        text-align: right;\n",
       "    }\n",
       "</style>\n",
       "<table border=\"1\" class=\"dataframe\">\n",
       "  <thead>\n",
       "    <tr style=\"text-align: right;\">\n",
       "      <th></th>\n",
       "      <th>total_bill</th>\n",
       "      <th>tip</th>\n",
       "      <th>sex</th>\n",
       "      <th>smoker</th>\n",
       "      <th>day</th>\n",
       "      <th>time</th>\n",
       "      <th>size</th>\n",
       "    </tr>\n",
       "  </thead>\n",
       "  <tbody>\n",
       "    <tr>\n",
       "      <th>1</th>\n",
       "      <td>16.99</td>\n",
       "      <td>1.01</td>\n",
       "      <td>Female</td>\n",
       "      <td>No</td>\n",
       "      <td>Sun</td>\n",
       "      <td>Dinner</td>\n",
       "      <td>2</td>\n",
       "    </tr>\n",
       "    <tr>\n",
       "      <th>2</th>\n",
       "      <td>10.34</td>\n",
       "      <td>1.66</td>\n",
       "      <td>Male</td>\n",
       "      <td>No</td>\n",
       "      <td>Sun</td>\n",
       "      <td>Dinner</td>\n",
       "      <td>3</td>\n",
       "    </tr>\n",
       "    <tr>\n",
       "      <th>3</th>\n",
       "      <td>21.01</td>\n",
       "      <td>3.50</td>\n",
       "      <td>Male</td>\n",
       "      <td>No</td>\n",
       "      <td>Sun</td>\n",
       "      <td>Dinner</td>\n",
       "      <td>3</td>\n",
       "    </tr>\n",
       "  </tbody>\n",
       "</table>\n",
       "</div>"
      ],
      "text/plain": [
       "   total_bill   tip     sex smoker  day    time  size\n",
       "1       16.99  1.01  Female     No  Sun  Dinner     2\n",
       "2       10.34  1.66    Male     No  Sun  Dinner     3\n",
       "3       21.01  3.50    Male     No  Sun  Dinner     3"
      ]
     },
     "execution_count": 14,
     "metadata": {},
     "output_type": "execute_result"
    }
   ],
   "source": [
    "tips = data('tips')\n",
    "tips.head(3)"
   ]
  },
  {
   "cell_type": "code",
   "execution_count": 15,
   "id": "c064f413",
   "metadata": {},
   "outputs": [],
   "source": [
    "tips = spark.createDataFrame(tips)"
   ]
  },
  {
   "cell_type": "code",
   "execution_count": 16,
   "id": "317e3936",
   "metadata": {},
   "outputs": [
    {
     "data": {
      "text/plain": [
       "38.114754098360656"
      ]
     },
     "execution_count": 16,
     "metadata": {},
     "output_type": "execute_result"
    }
   ],
   "source": [
    "# What percentage of observations are smokers?\n",
    "(tips.filter(tips.smoker == 'Yes').count() / tips.count()) * 100"
   ]
  },
  {
   "cell_type": "code",
   "execution_count": 17,
   "id": "60d7b8f1",
   "metadata": {},
   "outputs": [
    {
     "name": "stdout",
     "output_type": "stream",
     "text": [
      "+----------+----+------+------+---+------+----+--------+\n",
      "|total_bill| tip|   sex|smoker|day|  time|size|tip_perc|\n",
      "+----------+----+------+------+---+------+----+--------+\n",
      "|     16.99|1.01|Female|    No|Sun|Dinner|   2|    5.94|\n",
      "|     10.34|1.66|  Male|    No|Sun|Dinner|   3|   16.05|\n",
      "|     21.01| 3.5|  Male|    No|Sun|Dinner|   3|   16.66|\n",
      "|     23.68|3.31|  Male|    No|Sun|Dinner|   2|   13.98|\n",
      "|     24.59|3.61|Female|    No|Sun|Dinner|   4|   14.68|\n",
      "+----------+----+------+------+---+------+----+--------+\n",
      "only showing top 5 rows\n",
      "\n"
     ]
    }
   ],
   "source": [
    "# Create a column that contains the tip percentage\n",
    "tips = tips.withColumn('tip_perc',\n",
    "       F.round((tips.tip / tips.total_bill) * 100,2)\n",
    "               )\n",
    "tips.show(5)"
   ]
  },
  {
   "cell_type": "code",
   "execution_count": 18,
   "id": "9e7ceb9e",
   "metadata": {},
   "outputs": [
    {
     "name": "stderr",
     "output_type": "stream",
     "text": [
      "\r",
      "[Stage 16:>                                                         (0 + 8) / 8]\r"
     ]
    },
    {
     "name": "stdout",
     "output_type": "stream",
     "text": [
      "+------+------+------------------+\n",
      "|   sex|smoker|     avg(tip_perc)|\n",
      "+------+------+------------------+\n",
      "|  Male|    No| 16.06659793814433|\n",
      "|Female|    No| 15.69111111111111|\n",
      "|  Male|   Yes|15.276666666666667|\n",
      "|Female|   Yes|18.214545454545455|\n",
      "+------+------+------------------+\n",
      "\n"
     ]
    },
    {
     "name": "stderr",
     "output_type": "stream",
     "text": [
      "\r",
      "                                                                                \r"
     ]
    }
   ],
   "source": [
    "# Calculate the average tip percentage for each combination of sex and smoker.\n",
    "tips.groupby(tips.sex, tips.smoker).avg('tip_perc').show(5)"
   ]
  },
  {
   "cell_type": "markdown",
   "id": "c136463c",
   "metadata": {},
   "source": [
    "# 4. Use the seattle weather dataset referenced in the lesson to answer the questions below.\n",
    "- Convert the temperatures to fahrenheit.\n",
    "- Which month has the most rain, on average?\n",
    "- Which year was the windiest?\n",
    "- What is the most frequent type of weather in January?\n",
    "- What is the average high and low temperature on sunny days in July in 2013 and 2014?\n",
    "- What percentage of days were rainy in q3 of 2015?\n",
    "- For each year, find what percentage of days it rained (had non-zero precipitation)."
   ]
  },
  {
   "cell_type": "code",
   "execution_count": 19,
   "id": "a88a3ba1",
   "metadata": {},
   "outputs": [
    {
     "name": "stdout",
     "output_type": "stream",
     "text": [
      "+----------+-------------+--------+--------+----+-------+\n",
      "|      date|precipitation|temp_max|temp_min|wind|weather|\n",
      "+----------+-------------+--------+--------+----+-------+\n",
      "|2012-01-01|          0.0|    12.8|     5.0| 4.7|drizzle|\n",
      "|2012-01-02|         10.9|    10.6|     2.8| 4.5|   rain|\n",
      "|2012-01-03|          0.8|    11.7|     7.2| 2.3|   rain|\n",
      "|2012-01-04|         20.3|    12.2|     5.6| 4.7|   rain|\n",
      "|2012-01-05|          1.3|     8.9|     2.8| 6.1|   rain|\n",
      "|2012-01-06|          2.5|     4.4|     2.2| 2.2|   rain|\n",
      "+----------+-------------+--------+--------+----+-------+\n",
      "only showing top 6 rows\n",
      "\n"
     ]
    }
   ],
   "source": [
    "from vega_datasets import data\n",
    "\n",
    "weather = data.seattle_weather().assign(date=lambda df: df.date.astype(str))\n",
    "weather = spark.createDataFrame(weather)\n",
    "weather.show(6)"
   ]
  },
  {
   "cell_type": "code",
   "execution_count": 20,
   "id": "70630f3b",
   "metadata": {},
   "outputs": [
    {
     "data": {
      "text/plain": [
       "(55.04, 41.0)"
      ]
     },
     "execution_count": 20,
     "metadata": {},
     "output_type": "execute_result"
    }
   ],
   "source": [
    "(12.8 * 9 /5) + 32, (5.0 * 9 /5) + 32"
   ]
  },
  {
   "cell_type": "markdown",
   "id": "b714ddf8",
   "metadata": {},
   "source": [
    "### Convert the temperatures to fahrenheit."
   ]
  },
  {
   "cell_type": "code",
   "execution_count": 21,
   "id": "94c4b5f3",
   "metadata": {},
   "outputs": [
    {
     "name": "stdout",
     "output_type": "stream",
     "text": [
      "+----------+-------------+--------+--------+----+-------+\n",
      "|      date|precipitation|temp_max|temp_min|wind|weather|\n",
      "+----------+-------------+--------+--------+----+-------+\n",
      "|2012-01-01|          0.0|    55.0|    41.0| 4.7|drizzle|\n",
      "|2012-01-02|         10.9|    51.1|    37.0| 4.5|   rain|\n",
      "|2012-01-03|          0.8|    53.1|    45.0| 2.3|   rain|\n",
      "|2012-01-04|         20.3|    54.0|    42.1| 4.7|   rain|\n",
      "|2012-01-05|          1.3|    48.0|    37.0| 6.1|   rain|\n",
      "+----------+-------------+--------+--------+----+-------+\n",
      "only showing top 5 rows\n",
      "\n"
     ]
    }
   ],
   "source": [
    "# (deg_c * 9 / 5) + 32 = deg_f\n",
    "weather = weather.withColumn('temp_max',\n",
    "            (F.round((weather.temp_max * 9 / 5),1) + 32)\n",
    "                   )\n",
    "weather = weather.withColumn('temp_min',\n",
    "            (F.round((weather.temp_min * 9 / 5),1) + 32)\n",
    "                  )\n",
    "weather.show(5)"
   ]
  },
  {
   "cell_type": "code",
   "execution_count": 22,
   "id": "5431f19f",
   "metadata": {},
   "outputs": [
    {
     "name": "stdout",
     "output_type": "stream",
     "text": [
      "+----------+-------------+--------+--------+----+-------+-----+\n",
      "|      date|precipitation|temp_max|temp_min|wind|weather|month|\n",
      "+----------+-------------+--------+--------+----+-------+-----+\n",
      "|2012-01-01|          0.0|    55.0|    41.0| 4.7|drizzle|    1|\n",
      "|2012-01-02|         10.9|    51.1|    37.0| 4.5|   rain|    1|\n",
      "|2012-01-03|          0.8|    53.1|    45.0| 2.3|   rain|    1|\n",
      "+----------+-------------+--------+--------+----+-------+-----+\n",
      "only showing top 3 rows\n",
      "\n"
     ]
    }
   ],
   "source": [
    "\n",
    "weather = weather.withColumn('month',\n",
    "                  F.month(F.col('date'))\n",
    "                  )\n",
    "weather.show(3)"
   ]
  },
  {
   "cell_type": "markdown",
   "id": "f8ca8591",
   "metadata": {},
   "source": [
    "### Which month has the most rain, on average?"
   ]
  },
  {
   "cell_type": "code",
   "execution_count": 23,
   "id": "26cfd02b",
   "metadata": {},
   "outputs": [
    {
     "name": "stdout",
     "output_type": "stream",
     "text": [
      "+-----+--------+\n",
      "|month|avg_rain|\n",
      "+-----+--------+\n",
      "|   10|    8.06|\n",
      "|   11|    7.52|\n",
      "|    1|    5.14|\n",
      "+-----+--------+\n",
      "only showing top 3 rows\n",
      "\n"
     ]
    }
   ],
   "source": [
    "weather.\\\n",
    "    filter((weather.weather == 'rain') | (weather.weather == 'drizzle')).\\\n",
    "    groupby('month').\\\n",
    "    agg(F.round(\n",
    "        F.avg('precipitation'), 2).\\\n",
    "        alias('avg_rain')\n",
    "        ).\\\n",
    "    sort(F.col('avg_rain').desc()).\\\n",
    "    show(3)"
   ]
  },
  {
   "cell_type": "markdown",
   "id": "3d7b409f",
   "metadata": {},
   "source": [
    "#### October"
   ]
  },
  {
   "cell_type": "markdown",
   "id": "f586de02",
   "metadata": {},
   "source": [
    "## Which year was the windiest?"
   ]
  },
  {
   "cell_type": "code",
   "execution_count": 24,
   "id": "9b7b0b52",
   "metadata": {},
   "outputs": [
    {
     "name": "stderr",
     "output_type": "stream",
     "text": [
      "\r",
      "[Stage 25:>                                                         (0 + 8) / 8]\r"
     ]
    },
    {
     "name": "stdout",
     "output_type": "stream",
     "text": [
      "+----+------------------+\n",
      "|year|         avg(wind)|\n",
      "+----+------------------+\n",
      "|2012| 3.400819672131148|\n",
      "|2014| 3.387671232876714|\n",
      "|2015| 3.159726027397261|\n",
      "|2013|3.0158904109589058|\n",
      "+----+------------------+\n",
      "\n"
     ]
    },
    {
     "name": "stderr",
     "output_type": "stream",
     "text": [
      "\r",
      "                                                                                \r"
     ]
    }
   ],
   "source": [
    "weather.withColumn('year', F.year(F.col('date'))).groupby('year').\\\n",
    "    avg('wind').sort(F.col('avg(wind)').desc()).show(4)"
   ]
  },
  {
   "cell_type": "markdown",
   "id": "2870fbe2",
   "metadata": {},
   "source": [
    "### 2012"
   ]
  },
  {
   "cell_type": "markdown",
   "id": "3c37f6c3",
   "metadata": {},
   "source": [
    "## What is the most frequent type of weather in January?"
   ]
  },
  {
   "cell_type": "code",
   "execution_count": 25,
   "id": "56b41d2f",
   "metadata": {},
   "outputs": [
    {
     "name": "stdout",
     "output_type": "stream",
     "text": [
      "+-------+-----+\n",
      "|weather|count|\n",
      "+-------+-----+\n",
      "|    fog|   38|\n",
      "|   rain|   35|\n",
      "|    sun|   33|\n",
      "|drizzle|   10|\n",
      "|   snow|    8|\n",
      "+-------+-----+\n",
      "\n"
     ]
    }
   ],
   "source": [
    "weather.filter(weather.month == 1).groupby('weather').count().\\\n",
    "    sort(F.col('count').desc()).show()"
   ]
  },
  {
   "cell_type": "markdown",
   "id": "f4de7c91",
   "metadata": {},
   "source": [
    "### Fog"
   ]
  },
  {
   "cell_type": "markdown",
   "id": "e7480e37",
   "metadata": {},
   "source": [
    "## What is the average high and low temperature on sunny days in July in 2013 and 2014?"
   ]
  },
  {
   "cell_type": "code",
   "execution_count": 26,
   "id": "be24708d",
   "metadata": {},
   "outputs": [
    {
     "name": "stdout",
     "output_type": "stream",
     "text": [
      "+------------+------------+\n",
      "|avg_min_temp|avg_max_temp|\n",
      "+------------+------------+\n",
      "|        57.5|        80.3|\n",
      "+------------+------------+\n",
      "\n"
     ]
    }
   ],
   "source": [
    "weather.withColumn('year', F.year(F.col('date'))).\\\n",
    "    filter((F.col('year') == 2013) | (F.col('year') == 2014)).\\\n",
    "    filter(F.col('month') == 7).\\\n",
    "    filter(F.col('weather') == 'sun').\\\n",
    "    agg(F.round(F.avg(F.col('temp_min')), 1).alias('avg_min_temp'), \n",
    "        F.round(F.avg(F.col('temp_max')), 1).alias('avg_max_temp')).show()"
   ]
  },
  {
   "cell_type": "markdown",
   "id": "26f96e23",
   "metadata": {},
   "source": [
    "## What percentage of days were rainy in q3 of 2015?"
   ]
  },
  {
   "cell_type": "code",
   "execution_count": 27,
   "id": "0c96b0e2",
   "metadata": {},
   "outputs": [
    {
     "data": {
      "text/plain": [
       "2.17"
      ]
     },
     "execution_count": 27,
     "metadata": {},
     "output_type": "execute_result"
    }
   ],
   "source": [
    "round(((weather.withColumn('quarter', F.quarter(F.col('date'))).\\\n",
    "    withColumn('year', F.year(F.col('date'))).\\\n",
    "    filter(F.col('quarter') == 3).\\\n",
    "    filter(F.col('year') == 2015).\\\n",
    "    filter(F.col('weather') == 'rain').\\\n",
    "    count()\n",
    ") / \n",
    "(weather.withColumn('quarter', F.quarter(F.col('date'))).\\\n",
    "    withColumn('year', F.year(F.col('date'))).\\\n",
    "    filter(F.col('quarter') == 3).\\\n",
    "    filter(F.col('year') == 2015).\\\n",
    "    count()\n",
    ")) * 100, 2)"
   ]
  },
  {
   "cell_type": "markdown",
   "id": "b4f6978c",
   "metadata": {},
   "source": [
    "### 2.17%"
   ]
  },
  {
   "cell_type": "markdown",
   "id": "e1bb194a",
   "metadata": {},
   "source": [
    "## For each year, find what percentage of days it rained (had non-zero precipitation)."
   ]
  },
  {
   "cell_type": "code",
   "execution_count": 32,
   "id": "f182fb8b",
   "metadata": {},
   "outputs": [
    {
     "name": "stdout",
     "output_type": "stream",
     "text": [
      "+----+----------------+\n",
      "|year|precip_days_perc|\n",
      "+----+----------------+\n",
      "|2012|           48.49|\n",
      "|2013|           41.64|\n",
      "|2014|            41.1|\n",
      "|2015|           39.45|\n",
      "+----+----------------+\n",
      "\n"
     ]
    }
   ],
   "source": [
    "weather.withColumn('year', F.year(F.col('date'))).\\\n",
    "    filter(F.col('precipitation') != 0).\\\n",
    "    groupby(F.col('year')).\\\n",
    "    agg(\n",
    "        F.round(F.count('year') / 365 * 100, 2).\\\n",
    "        alias('precip_days_perc')\n",
    "        ).\\\n",
    "    show()"
   ]
  }
 ],
 "metadata": {
  "kernelspec": {
   "display_name": "Python 3 (ipykernel)",
   "language": "python",
   "name": "python3"
  },
  "language_info": {
   "codemirror_mode": {
    "name": "ipython",
    "version": 3
   },
   "file_extension": ".py",
   "mimetype": "text/x-python",
   "name": "python",
   "nbconvert_exporter": "python",
   "pygments_lexer": "ipython3",
   "version": "3.9.13"
  }
 },
 "nbformat": 4,
 "nbformat_minor": 5
}
